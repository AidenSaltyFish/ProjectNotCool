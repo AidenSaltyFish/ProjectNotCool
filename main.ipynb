{
 "cells": [
  {
   "cell_type": "code",
   "execution_count": null,
   "id": "ebe7080f",
   "metadata": {},
   "outputs": [],
   "source": [
    "import pandas as pd\n",
    "import seaborn as sns\n",
    "import matplotlib.pyplot as plt\n",
    "import numpy as np\n",
    "\n",
    "import bokeh\n",
    "from bokeh.models import ColumnDataSource\n",
    "from bokeh.plotting import figure, output_file, show\n",
    "from bokeh.models import Legend\n",
    "from bokeh.models import LegendItem\n",
    "from bokeh.models import HoverTool\n",
    "from bokeh.transform import dodge\n",
    "from bokeh.models import ColorBar, ColumnDataSource\n",
    "from bokeh.models import  CustomJSHover\n",
    "from bokeh.palettes import Spectral6\n",
    "from bokeh.plotting import figure, output_file, show\n",
    "from bokeh.transform import linear_cmap\n",
    "from bokeh.models import HoverTool\n",
    "from bokeh.layouts import layout\n",
    "from bokeh.models.widgets import Tabs, Panel\n",
    "from bokeh.io import curdoc\n",
    "from bokeh.io import output_notebook\n",
    "from bokeh.plotting import figure\n",
    "from bokeh.util.warnings import BokehUserWarning \n",
    "from bokeh.resources import CDN\n",
    "from bokeh.embed import file_html\n",
    "\n",
    "from scipy import stats\n",
    "from sklearn import preprocessing\n",
    "from sklearn.model_selection import train_test_split\n",
    "from sklearn.ensemble import RandomForestClassifier\n",
    "from sklearn.metrics import accuracy_score\n",
    "from sklearn.metrics import confusion_matrix\n",
    "from sklearn.model_selection import RandomizedSearchCV\n",
    "from dtreeviz.trees import dtreeviz\n",
    "from scipy.interpolate import make_interp_spline\n",
    "from sklearn.metrics import ConfusionMatrixDisplay\n",
    "\n",
    "import json\n",
    "import geopandas as gpd;\n",
    "import datetime\n",
    "\n",
    "from shapely.geometry import MultiPolygon\n",
    "from shapely.geometry import shape\n",
    "from shapely.geometry.polygon import Polygon\n",
    "\n",
    "import branca\n",
    "from branca.colormap import linear\n",
    "import branca.colormap as cm\n",
    "\n",
    "import folium;\n",
    "from folium.plugins import StripePattern;\n",
    "from folium.map import FeatureGroup\n",
    "from folium.plugins import TimeSliderChoropleth\n",
    "from folium.plugins import HeatMap\n",
    "\n",
    "import json\n",
    "import geopandas as gpd;\n",
    "import datetime\n",
    "\n",
    "from shapely.geometry import MultiPolygon\n",
    "from shapely.geometry import shape\n",
    "from shapely.geometry.polygon import Polygon\n",
    "\n",
    "from branca.colormap import linear\n",
    "import branca.colormap as cm\n",
    "from geopy.distance import great_circle"
   ]
  },
  {
   "cell_type": "code",
   "execution_count": null,
   "id": "312e89b4",
   "metadata": {},
   "outputs": [],
   "source": [
    "output_notebook()"
   ]
  },
  {
   "cell_type": "markdown",
   "id": "06003a6f",
   "metadata": {},
   "source": [
    "# Motivation of the project\n",
    "Smoking is NOT cool at all: it remains the leading cause of preventable disease, disability, and death in the United States. Youth e-cigarette use arises new public health issues in recent years, which is report that almost 85 percent of the more than 2 million middle and high school students have used e-cigarettes in USA in 2021. This topic soon rewind our memories back to high school time, when we had a friend with his cigarette all the time since then. He carried a four-inch long air-polluter and thinking themselves as the coolest people all over the world in the chocking smoke. For times we were trying to talk him into quitting, but he would always come back to enjoy his little e-cigarette in cola flavor again and again (Check the video below! He’s there!).\n",
    "\n",
    "Good health and well-being is one of the primary topics in sustainable development. Encouraging smoking would be an enormous impedance in terms of achieving the sustainable goals, due to tobacco’s science-proved damage to human health. Inspired by our friend, we are wondering how many high schoolers out there are just like him. We would aldo like to dig further on studying the factors contributing to their addiction to cigarette via data-driven methods."
   ]
  },
  {
   "cell_type": "markdown",
   "id": "d6ee120d",
   "metadata": {},
   "source": [
    "# Datasets\n",
    "Tobacco control is always a heated topic within sustainability, especially the smoking behaviors among teeangers. It is part of the UN's sustainable goal to regulate the average age of tobacco users, and to avoid teenagers to smoke with full care and support.\n",
    "\n",
    "In this project we are going to analyze NYC high school students' smoking behaviors, and to be more specific, how old are they do they start smoking. To dive deep on this issue, we combined three open dataset: the USA Youth Risk Behavior Surveillance Survey results, the NYC School Survey results, the 2019 NYC high school directory, and 2019 NYC licensed tobacco retailers. \n",
    "\n",
    "The first two are survey results gathered from students, where YRBSS dataset contains in total 500,000 high school students' individual responses every other year from 1991 to 2019 all across USA, and NYC School Survey gives statistics of over 1000 schools of 5 boroughs in NYC every year aiming to evaluate the school's quality. With NYC high school directory we can focus on the high schools students only, and tobbaco retailers help to further expand our vision to see how commercialization of tobacco relates to exact smoking behaviors of teenagers.\n",
    "\n",
    "To operate on a sufficient dataset, we extracted YRBSS results from 2007, because NYC School Survey started from 2007, and the NYC school survey in 2017 to 2019 because questions and answers have been consistent within these three years.\n",
    "\n",
    "The data cleaning and preprocessing procedures are scattered through the following sections, including but not limited to filter needed columns, encoding boroughs and binarize values. Please refer to the specific section to see what we have done on these datasets and some basic stats."
   ]
  },
  {
   "cell_type": "markdown",
   "id": "67a5b6e2",
   "metadata": {},
   "source": [
    "# YRBSS\n",
    "## 1. Read the dataframe and data overview \n",
    "\n",
    "-  Read all the YRBSS results of the US dated from 1991\n",
    "-  Extract data of 5 boroughs of New York from 2007, because NYC school survey starts from 2007, make it possible for further comprehensive study.\n",
    "-  Show the overview of the dataset for all the following analysis in this notebook: total each year, total number of each borough in all years and each year.\n",
    "\n",
    "\n",
    " \n"
   ]
  },
  {
   "cell_type": "code",
   "execution_count": null,
   "id": "07d60b3b",
   "metadata": {},
   "outputs": [],
   "source": [
    "### read the full dataset with the chosen columns\n",
    "cols = ['sitecode', 'sitename', 'sitetype', 'sitetypenum', 'year', 'stratum', 'PSU', 'record', 'age', 'sex', 'grade', \n",
    "        'race4', 'race7', 'stheight', 'stweight', 'bmi', 'bmipct', 'qnobese', 'qnowt', 'q66', 'q65', \n",
    "        'sexid', 'sexid2', 'sexpart', 'sexpart2', 'q8', 'q9', 'q10', 'q11', 'q12', 'q13', 'q14',\n",
    "        'q15', 'q16', 'q17', 'q18', 'q19', 'q20', 'q21', 'q22', 'q23', 'q24', 'q25', 'q26', 'q27', \n",
    "        'q28', 'q29', 'q30', 'q31', 'q32', 'q33', 'q34', 'q35', 'q36', 'q37', 'q38', 'q39', 'q40', \n",
    "        'q41', 'q42', 'q43', 'q44', 'q45', 'q46', 'q47', 'q48', 'q49', 'q50', 'q51', 'q52', 'q53', \n",
    "        'q54', 'q55', 'q56', 'q57', 'q58', 'q59', 'q60', 'q61', 'q62', 'q63', 'q64', 'q67', 'q68', \n",
    "        'q69', 'q70', 'q71', 'q72', 'q73', 'q74', 'q75', 'q76', 'q77', 'q78', 'q79', 'q80', 'q81', \n",
    "        'q82', 'q83', 'q84', 'q85', 'q86', 'q87', 'q88', 'q89']\n",
    "\n",
    "df_allyears = pd.read_table(\"./SADCQ.csv\", sep=',', header='infer',usecols = cols)\n",
    "\n",
    "### print the sitecode, and find the 5 boroughs of NYC\n",
    "df_allyears['sitecode'].unique()"
   ]
  },
  {
   "cell_type": "code",
   "execution_count": null,
   "id": "c8a67c30",
   "metadata": {},
   "outputs": [],
   "source": [
    "### extract data of 5 boroughs after 2007\n",
    "boroughs_code = ['NYG', 'NYH', 'NYI', 'NYJ', 'NYK']\n",
    "boroughs_name = ['Bronx','Brooklyn','Manhattan','Queens','Staten Island']\n",
    "df_boroughs = dict()\n",
    "\n",
    "for i,b in enumerate(boroughs_code):\n",
    "    df_boroughs[boroughs_name[i]] = df_allyears[(df_allyears['sitecode']==b) & (df_allyears['year']>=2007)]\n",
    "    \n",
    "# df_Bronx = df_boroughs['NYG']\n",
    "# df_Brooklyn = df_boroughs['NYH']\n",
    "# df_Manhattan = df_boroughs['NYI']\n",
    "# df_Queens = df_boroughs['NYJ']\n",
    "# df_Staten = df_boroughs['NYK']\n",
    "\n",
    "### construct years list\n",
    "years = df_boroughs['Bronx'].year.unique()"
   ]
  },
  {
   "cell_type": "code",
   "execution_count": null,
   "id": "0e0d702c",
   "metadata": {
    "scrolled": true
   },
   "outputs": [],
   "source": [
    "### \n",
    "year_count = pd.DataFrame(index=list(years)+['total'])\n",
    "\n",
    "for i in range(5):\n",
    "    b = df_boroughs[boroughs_name[i]]\n",
    "    b_years = b.groupby('year').count()['record']\n",
    "    b_years = b_years.to_frame()\n",
    "    b_years.rename(columns={\"record\":boroughs_name[i]},inplace=True)\n",
    "    year_count = pd.concat((year_count, b_years), join='outer', axis=1) \n",
    "    \n",
    "    year_count.iloc[7,i] = year_count.iloc[:,i][:-1].values.sum()\n",
    "year_count['year_total'] = year_count.iloc[:,:-1].sum(axis=1)\n",
    "    \n",
    "#year_count = year_count.T\n",
    "#year_count.reset_index(inplace=True)\n",
    "#year_count\n",
    "\n",
    "### \n",
    "borough_count = year_count.loc['total',:].to_frame()\n",
    "# borough_count\n",
    "\n",
    "###\n",
    "year_proportion = pd.DataFrame()\n",
    "for i,y in enumerate(years):\n",
    "    year_proportion[y] = year_count.iloc[i,:-1]/year_count.loc[y,'year_total']"
   ]
  },
  {
   "cell_type": "code",
   "execution_count": null,
   "id": "8d28c9b9",
   "metadata": {},
   "outputs": [],
   "source": [
    "color_list = ['#3A543F', '#ee8cb3', '#f6d4c8', '#71b9b6',\n",
    "               '#017c8c', '#f1b638', '#07606a', '#c7f0d4', '#C2C2C2']"
   ]
  },
  {
   "cell_type": "markdown",
   "id": "55e6e451",
   "metadata": {},
   "source": [
    "#### Fig1"
   ]
  },
  {
   "cell_type": "code",
   "execution_count": null,
   "id": "d23feb29",
   "metadata": {},
   "outputs": [],
   "source": [
    "plt.figure(figsize=(8,4))\n",
    "\n",
    "year_count['year_total'].drop('total').plot(color=color_list[4])\n",
    "plt.xticks(year_count.index[:-1], year_count.index[:-1])\n",
    "plt.title('YRBSS total count of NYC')\n",
    "plt.ylabel('number of records')\n",
    "\n",
    "plt.savefig('../fig/part_1_1.svg', bbox_inches='tight')"
   ]
  },
  {
   "cell_type": "markdown",
   "id": "ebc2d0ba",
   "metadata": {},
   "source": [
    "#### Fig2"
   ]
  },
  {
   "cell_type": "code",
   "execution_count": null,
   "id": "5214818e",
   "metadata": {},
   "outputs": [],
   "source": [
    "plt.figure(figsize=(8,4))\n",
    "\n",
    "for i in range(5): \n",
    "    plt.bar(i, year_count[boroughs_name[i]].total, width=0.6, color=color_list[i+1])  \n",
    "plt.xticks(range(5), boroughs_name)\n",
    "plt.title(\"YRBSS total count of NYC's 5 boroughs 2007-2019\")\n",
    "plt.ylabel('number of records')\n",
    "\n",
    "plt.savefig('../fig/part_1_2.svg', bbox_inches='tight')"
   ]
  },
  {
   "cell_type": "markdown",
   "id": "054f02c2",
   "metadata": {},
   "source": [
    "#### Fig3"
   ]
  },
  {
   "cell_type": "code",
   "execution_count": null,
   "id": "4a0faafc",
   "metadata": {
    "scrolled": false
   },
   "outputs": [],
   "source": [
    "plt.figure(figsize=(12,4))\n",
    "\n",
    "x = np.linspace(0,30,7)-0.7\n",
    "\n",
    "for i in range(5):    \n",
    "    # plt.bar(x[i]+0.7, year_count[boroughs_name[i]].loc['total'], color = color_list[i+1], width=3)\n",
    "    plt.bar(x + 0.7*i, year_count[boroughs_name[i]].drop('total'), color = color_list[i+1], width=0.6, label= boroughs_name[i])\n",
    "\n",
    "\n",
    "plt.xticks(np.linspace(0,30,7)+0.7, year_count.index[:-1])\n",
    "plt.ylabel('number of records')\n",
    "plt.title('YRBSS yearly count of the 5 boroughs')\n",
    "plt.legend(bbox_to_anchor=(1,1.03))\n",
    "\n",
    "plt.savefig('../fig/part_1_3.svg', bbox_inches='tight')"
   ]
  },
  {
   "cell_type": "markdown",
   "id": "0bba5087",
   "metadata": {},
   "source": [
    "#### Fig4"
   ]
  },
  {
   "cell_type": "code",
   "execution_count": null,
   "id": "48d7b2ca",
   "metadata": {},
   "outputs": [],
   "source": [
    "year_proportion.T.plot(figsize=(12,4),color=color_list[1:])\n",
    "plt.xticks(year_count.index[:-1], year_count.index[:-1])\n",
    "plt.title('YRBSS yearly proportion of the 5 boroughs')\n",
    "plt.ylabel('proportion')\n",
    "plt.legend(bbox_to_anchor=(1,1.03))\n",
    "\n",
    "plt.savefig('../fig/part_1_4.svg', bbox_inches='tight')"
   ]
  },
  {
   "cell_type": "markdown",
   "id": "121deb2e",
   "metadata": {},
   "source": [
    "#### Comment\n",
    "- The YRBSS dataset have different number of records each year. 2007, 2013 and 2015 have smaller amount at about 7500, and the rest years each have about 8000-10000 records.\n",
    "- The YRBSS dataset records quite balanced amounts of the 5 boroughs. Bronx, Brooklyn and Manhattan each have about 15000 records in total, and Queens and Staten Island each have about 12000.\n",
    "- The 5 boroughs are not equally sampled through the years. The numbers of records in each borough each year show no steady pattern, although the yearly proportion proves that the boroughs are sampled with similar weights through years, which usually Bronx, Brooklyn and Manhatten are sampled more."
   ]
  },
  {
   "cell_type": "markdown",
   "id": "6cee6061",
   "metadata": {},
   "source": [
    "## 2. Demographic overview"
   ]
  },
  {
   "cell_type": "markdown",
   "id": "3dc268bf",
   "metadata": {},
   "source": [
    "### 2.1 gender"
   ]
  },
  {
   "cell_type": "code",
   "execution_count": null,
   "id": "3eb9f445",
   "metadata": {},
   "outputs": [],
   "source": [
    "width = 600\n",
    "height = 400"
   ]
  },
  {
   "cell_type": "code",
   "execution_count": null,
   "id": "1ad540b8",
   "metadata": {},
   "outputs": [],
   "source": [
    "# gender distribution\n",
    "gender_ratio = pd.DataFrame(index=['female','male'])\n",
    "\n",
    "for i in range(5):\n",
    "    b = df_boroughs[boroughs_name[i]]\n",
    "    b_gender = b.groupby('sex').count()['record']\n",
    "    gender_ratio[boroughs_name[i]] = b_gender.values/b_gender.sum()\n",
    "gender_ratio    "
   ]
  },
  {
   "cell_type": "code",
   "execution_count": null,
   "id": "cd896e88",
   "metadata": {},
   "outputs": [],
   "source": [
    "### edit the ratio dataframe for bokeh plotting\n",
    "types = ['female', 'male']\n",
    "\n",
    "# gender_ratio.index = types\n",
    "gender_ratio = gender_ratio.T\n",
    "gender_ratio['borough'] = gender_ratio.index\n",
    "gender_ratio['top']=1\n",
    "\n",
    "\n",
    "### read into bokeh source and plot with stacked bar chart      \n",
    "source = ColumnDataSource(data=gender_ratio);\n",
    "\n",
    "p_gender = figure(title=\"Gender distribution of each borough\",\n",
    "           width=width, height=height,\n",
    "           x_range = boroughs_name,\n",
    "           x_axis_label='Borough', y_axis_label='Proportion')\n",
    "\n",
    "legend_list = []\n",
    "for idx,t in enumerate(types):\n",
    "    if t=='female':\n",
    "        bar = p_gender.vbar(x=\"borough\", top=types[idx], source=source, width=0.5, fill_alpha=0.8, line_alpha=0,\n",
    "         fill_color=color_list[1])\n",
    "        legend_list.append(LegendItem(label=t, renderers=[bar]))\n",
    "        \n",
    "    if t=='male':\n",
    "        bar = p_gender.vbar(x=\"borough\", bottom=types[idx-1], top=\"top\", source=source, width=0.5, fill_alpha=0.8, line_alpha=0,\n",
    "         fill_color=color_list[0])\n",
    "        legend_list.append(LegendItem(label=t, renderers=[bar]))\n",
    "\n",
    "        \n",
    "\n",
    "    if t =='female':\n",
    "        hover = HoverTool(tooltips=[\n",
    "         ('% of female', '@female{:.2%}')], \n",
    "         renderers=[bar])\n",
    "        p_gender.add_tools(hover)\n",
    "        \n",
    "    if t =='male':\n",
    "        hover = HoverTool(tooltips=[\n",
    "         ('% of age male', '@male{:.2%}')], \n",
    "         renderers=[bar])\n",
    "        p_gender.add_tools(hover)\n",
    "        \n",
    "        \n",
    "p_gender.add_layout(Legend(items=legend_list, location=(10, 145)), 'right')\n",
    "show(p_gender)"
   ]
  },
  {
   "cell_type": "markdown",
   "id": "a17fdbdc",
   "metadata": {},
   "source": [
    "### 2.2 race"
   ]
  },
  {
   "cell_type": "markdown",
   "id": "24d0d239",
   "metadata": {},
   "source": [
    "#### check race7 distribution\n",
    "The dataset provides two records of racial information: 7-class `race7`  and 4-class `race4`, in which `race7` classifies further on minor subgroups of `race4`. First we had a look on `race7` to see if it's necessary to use 7 groups of race, and the result shows that the 4-group races are sufficient, because the minor groups of `race7` are really really small in amount.\n",
    "\n",
    "(See plot below `American Indian/Alaska Native','Asian`, `Native Hawaiian/Other Pacific Islander`,`Multiple Races(Non-Hispanic)`)"
   ]
  },
  {
   "cell_type": "code",
   "execution_count": null,
   "id": "21c29fbf",
   "metadata": {
    "code_folding": []
   },
   "outputs": [],
   "source": [
    "# race distribution\n",
    "race7 = ['American Indian/Alaska Native','Asian','Black/African American','Hispanic/Latino',\n",
    "         'Native Hawaiian/Other Pacific Islander', 'White','Multiple Races(Non-Hispanic)']\n",
    "\n",
    "race_count = pd.DataFrame(index=race7)\n",
    "\n",
    "for i in range(5):\n",
    "    b = df_boroughs[boroughs_name[i]]\n",
    "    b_race7 = b.groupby('race7').count()['record']\n",
    "    race_count[boroughs_name[i]] = b_race7.values\n",
    "# race_count"
   ]
  },
  {
   "cell_type": "code",
   "execution_count": null,
   "id": "e384fa56",
   "metadata": {},
   "outputs": [],
   "source": [
    "race_count.plot(kind='line',rot=90, color=color_list[1:])"
   ]
  },
  {
   "cell_type": "markdown",
   "id": "0d7f0965",
   "metadata": {},
   "source": [
    "#### plot race4"
   ]
  },
  {
   "cell_type": "code",
   "execution_count": null,
   "id": "de236c71",
   "metadata": {},
   "outputs": [],
   "source": [
    "race4 = ['White','BlackAfricanAmerican','HispanicLatino','Other']\n",
    "race_count = pd.DataFrame(index=race4)\n",
    "\n",
    "for i in range(5):\n",
    "    b = df_boroughs[boroughs_name[i]]\n",
    "    b_race4 = b.groupby('race4').count()['record']\n",
    "    race_count[boroughs_name[i]] = b_race4.values/b_race4.sum()\n",
    "    \n",
    "race_count    "
   ]
  },
  {
   "cell_type": "code",
   "execution_count": null,
   "id": "4c6f3202",
   "metadata": {},
   "outputs": [],
   "source": [
    "### edit the ratio dataframe for bokeh plotting\n",
    "\n",
    "types = race4\n",
    "\n",
    "race_count = race_count.T\n",
    "race_count.columns = race4\n",
    "race_count['borough'] = race_count.index\n",
    "\n",
    "race_count\n",
    "race_count['White_bottom'] = 0\n",
    "race_count['White_top'] = race_count['White']\n",
    "\n",
    "\n",
    "for i in range(len(types)):\n",
    "    if i>=1:\n",
    "        race_count[types[i]+'_bottom'] = race_count[types[i-1]+'_top']\n",
    "        race_count[types[i]+'_top'] = race_count[types[i]+'_bottom'] + race_count[types[i]]\n",
    "race_count\n",
    "\n",
    "### read into bokeh source and plot with stacked bar chart      \n",
    "source = ColumnDataSource(data=race_count);\n",
    "\n",
    "p_race = figure(title=\"Race distribution of each borough\",\n",
    "           width=width, height=height,\n",
    "           x_range = boroughs_name,\n",
    "           x_axis_label='Borough', y_axis_label='Proportion')\n",
    "\n",
    "legend_list = []\n",
    "for idx,t in enumerate(types):\n",
    "    bar = p_race.vbar(x=\"borough\",  bottom = t+'_bottom', top=t+'_top',\n",
    "                        source=source, width=0.5, fill_alpha=0.8, line_alpha=0,\n",
    "                        fill_color=color_list[idx])\n",
    "    \n",
    "    legend_list.append(LegendItem(label=t, renderers=[bar]))\n",
    "        \n",
    "\n",
    "        \n",
    "\n",
    "    if t =='White':\n",
    "        hover = HoverTool(tooltips=[\n",
    "         ('% of White', '@White{:.2%}')], \n",
    "         renderers=[bar])\n",
    "        p_race.add_tools(hover)\n",
    "        \n",
    "    if t =='BlackAfricanAmerican':\n",
    "        hover = HoverTool(tooltips=[\n",
    "         ('% of BlackAfricanAmerican', '@BlackAfricanAmerican{:.2%}')], \n",
    "         renderers=[bar])\n",
    "        p_race.add_tools(hover)\n",
    "        \n",
    "    if t =='HispanicLatino':\n",
    "        hover = HoverTool(tooltips=[\n",
    "         ('% of HispanicLatino', '@HispanicLatino{:.2%}')], \n",
    "         renderers=[bar])\n",
    "        p_race.add_tools(hover)\n",
    "        \n",
    "    if t =='Other':\n",
    "        hover = HoverTool(tooltips=[\n",
    "         ('% of Other', '@Other{:.2%}')], \n",
    "         renderers=[bar])\n",
    "        p_race.add_tools(hover)\n",
    "        \n",
    "p_race.add_layout(Legend(items=legend_list, location=(10, 145)), 'right')\n",
    "show(p_race)"
   ]
  },
  {
   "cell_type": "markdown",
   "id": "6a457ecc",
   "metadata": {},
   "source": [
    "#### - Fig5 race_year"
   ]
  },
  {
   "cell_type": "code",
   "execution_count": null,
   "id": "ee5e21e1",
   "metadata": {},
   "outputs": [],
   "source": [
    "race_year = pd.DataFrame()\n",
    "for i in range(5):\n",
    "    b = df_boroughs[boroughs_name[i]]\n",
    "    race_year[boroughs_name[i]] = b.groupby(by=['race4','year']).count()['record']/np.array([year_count[boroughs_name[i]].values[:-1]]*4).flatten()\n",
    "\n",
    "race_year['race'] = [i[0] for i in race_year.index.tolist()]\n",
    "race_year['year'] = [i[1] for i in race_year.index.tolist()]\n",
    "\n",
    "fig, axs = plt.subplots(2,3, figsize = ([16,10]), sharey=True, squeeze=False)\n",
    "fig.suptitle('Race distribution of all boroughs through years')\n",
    "plt.subplots_adjust(wspace=0.1, hspace=0.4)\n",
    "\n",
    "for i in range(5):\n",
    "    sns.lineplot(ax = axs[int(i/3),int(i%3)], x=race_year.year, y=race_year[boroughs_name[i]], \n",
    "                 palette='Set2', hue=race_year.race, legend=False)\n",
    "    sns.scatterplot(ax = axs[int(i/3),int(i%3)], x=race_year.year, y=race_year[boroughs_name[i]], \n",
    "                    palette='Set2', hue=race_year.race, legend=False)\n",
    "    axs[int(i/3),int(i%3)].title.set_text(boroughs_name[i])\n",
    "    axs[int(i/3),int(i%3)].set_ylabel('Proportion')\n",
    "\n",
    "fig.legend(race4,bbox_to_anchor=(0.68, 0.95),ncol=4)\n",
    "fig.delaxes(axs[1][2])\n",
    "plt.savefig('../fig/part_1_5_race_year.svg', bbox_inches='tight')"
   ]
  },
  {
   "cell_type": "code",
   "execution_count": null,
   "id": "890d6e2d",
   "metadata": {
    "scrolled": true
   },
   "outputs": [],
   "source": [
    "# race_year"
   ]
  },
  {
   "cell_type": "markdown",
   "id": "061cbb6f",
   "metadata": {},
   "source": [
    "### 2.3 age/grade\n",
    "`age` and `grade` both reveals information about age, so we exmined in detail of these, and see if they are strongly correlated."
   ]
  },
  {
   "cell_type": "markdown",
   "id": "dad8f4ef",
   "metadata": {},
   "source": [
    "#### check age distribution\n",
    "Basically the age samples across boroughs are repeating a same pattern, (see in the grouped bar chart below). We created an interactive plot to help readers know this more clearly."
   ]
  },
  {
   "cell_type": "code",
   "execution_count": null,
   "id": "2879970c",
   "metadata": {},
   "outputs": [],
   "source": [
    "age = [12,13,14,15,16,17,18]\n",
    "grade =[9,10,11,12]\n",
    "\n",
    "age_count = pd.DataFrame(index=age)\n",
    "\n",
    "for i in range(5):\n",
    "    b = df_boroughs[boroughs_name[i]]\n",
    "    b_age = b.groupby('age').count()['record']\n",
    "    age_count[boroughs_name[i]] = b_age.values\n",
    "age_count"
   ]
  },
  {
   "cell_type": "code",
   "execution_count": null,
   "id": "b934c4c5",
   "metadata": {},
   "outputs": [],
   "source": [
    "age_count.T.plot(color = color_list,kind='bar', legend=False)\n",
    "plt.legend(bbox_to_anchor=(1.1, 1.2),ncol=7)"
   ]
  },
  {
   "cell_type": "code",
   "execution_count": null,
   "id": "460a9a66",
   "metadata": {
    "scrolled": true
   },
   "outputs": [],
   "source": [
    "age_ratio=pd.DataFrame(index=age)\n",
    "for i in range(5):\n",
    "    b = df_boroughs[boroughs_name[i]]\n",
    "    b_age = b.groupby('age').count()['record']\n",
    "\n",
    "    age_ratio[boroughs_name[i]] = b_age.values/b_age.sum()\n",
    "age_ratio"
   ]
  },
  {
   "cell_type": "code",
   "execution_count": null,
   "id": "26245325",
   "metadata": {},
   "outputs": [],
   "source": [
    "### edit the ratio dataframe for bokeh plotting\n",
    "types = [str(a) for a in age]\n",
    "\n",
    "age_ratio.index = types\n",
    "age_ratio = age_ratio.T\n",
    "age_ratio['borough'] = age_ratio.index\n",
    "age_ratio\n",
    "\n",
    "age_ratio['12_bottom'] = 0\n",
    "age_ratio['12_top'] = age_ratio['12']\n",
    "\n",
    "\n",
    "for i in range(len(types)):\n",
    "    if i>=1:\n",
    "        age_ratio[types[i]+'_bottom'] = age_ratio[types[i-1]+'_top']\n",
    "        age_ratio[types[i]+'_top'] = age_ratio[types[i]+'_bottom'] + age_ratio[types[i]]\n",
    "        \n",
    "\n",
    "### read into bokeh source and plot with stacked bar chart      \n",
    "source = ColumnDataSource(data=age_ratio);\n",
    "\n",
    "p_age = figure(title=\"Age distribution of each borough\",\n",
    "           width=width, height=height,\n",
    "           x_range = boroughs_name,\n",
    "           x_axis_label='Borough', y_axis_label='Proportion')\n",
    "\n",
    "legend_list = []\n",
    "for idx,t in enumerate(types):\n",
    "        \n",
    "    bar = p_age.vbar(x=\"borough\", bottom = t+'_bottom', top=t+'_top', source=source, width=0.5, fill_alpha=0.8, line_alpha=0,\n",
    "         fill_color=color_list[idx])\n",
    "    \n",
    "    if t =='12':\n",
    "        legend_list.append(LegendItem(label='<=12', renderers=[bar]))\n",
    "    elif t =='18':\n",
    "        legend_list.append(LegendItem(label='>=18', renderers=[bar]))\n",
    "        \n",
    "    else:\n",
    "        legend_list.append(LegendItem(label=t, renderers=[bar]))\n",
    "        \n",
    "\n",
    "    if t =='12':\n",
    "        hover = HoverTool(tooltips=[\n",
    "         ('% of age group <= 12', '@12{:.2%}')], \n",
    "         renderers=[bar])\n",
    "        p_age.add_tools(hover)\n",
    "        \n",
    "    if t =='13':\n",
    "        hover = HoverTool(tooltips=[\n",
    "         ('% of age group '+t, '@13{:.2%}')], \n",
    "         renderers=[bar])\n",
    "        p_age.add_tools(hover)\n",
    "        \n",
    "    if t =='14':\n",
    "        hover = HoverTool(tooltips=[\n",
    "         ('% of age group '+t, '@14{:.2%}')], \n",
    "         renderers=[bar])\n",
    "        p_age.add_tools(hover)\n",
    "        \n",
    "    if t =='14':\n",
    "        hover = HoverTool(tooltips=[\n",
    "         ('% of age group '+t, '@14{:.2%}')], \n",
    "         renderers=[bar])\n",
    "        p_age.add_tools(hover)\n",
    "        \n",
    "    if t =='15':\n",
    "        hover = HoverTool(tooltips=[\n",
    "         ('% of age group '+t, '@15{:.2%}')], \n",
    "         renderers=[bar])\n",
    "        p_age.add_tools(hover)\n",
    "    if t =='16':\n",
    "        hover = HoverTool(tooltips=[\n",
    "         ('% of age group '+t, '@16{:.2%}')], \n",
    "         renderers=[bar])\n",
    "        p_age.add_tools(hover)\n",
    "        \n",
    "    if t =='17':\n",
    "        hover = HoverTool(tooltips=[\n",
    "         ('% of age group '+t, '@17{:.2%}')], \n",
    "         renderers=[bar])\n",
    "        p_age.add_tools(hover)\n",
    "        \n",
    "    if t =='18':\n",
    "        hover = HoverTool(tooltips=[\n",
    "         ('% of age group >= 18', '@18{:.2%}')], \n",
    "         renderers=[bar])\n",
    "        p_age.add_tools(hover)\n",
    "        \n",
    "p_age.add_layout(Legend(items=legend_list, location=(10, 145)), 'right')\n",
    "show(p_age)"
   ]
  },
  {
   "cell_type": "markdown",
   "id": "fe663d33",
   "metadata": {},
   "source": [
    "#### check grade distribution"
   ]
  },
  {
   "cell_type": "code",
   "execution_count": null,
   "id": "0c41d7b0",
   "metadata": {},
   "outputs": [],
   "source": [
    "grade_count = pd.DataFrame(index=grade)\n",
    "\n",
    "for i in range(5):\n",
    "    b = df_boroughs[boroughs_name[i]]\n",
    "    b_grade = b.groupby('grade').count()['record']\n",
    "    grade_count[boroughs_name[i]] = b_grade.values\n",
    "grade_count"
   ]
  },
  {
   "cell_type": "markdown",
   "id": "b950d308",
   "metadata": {},
   "source": [
    "#### - Fig6 grade"
   ]
  },
  {
   "cell_type": "code",
   "execution_count": null,
   "id": "6ba174a8",
   "metadata": {},
   "outputs": [],
   "source": [
    "grade_count.T.plot(kind='bar',color=color_list,figsize=(8,4), rot=0, ylabel='number of records',title='Grade count of each borough')\n",
    "plt.legend(bbox_to_anchor=(1.15, 1.03), ncol=1)\n",
    "plt.savefig('../fig/part_1_6_grade.svg', bbox_inches='tight')"
   ]
  },
  {
   "cell_type": "markdown",
   "id": "d45c256b",
   "metadata": {},
   "source": [
    "#### check grade-age disctribution"
   ]
  },
  {
   "cell_type": "code",
   "execution_count": null,
   "id": "0f209cc8",
   "metadata": {},
   "outputs": [],
   "source": [
    "grade_age_count = pd.DataFrame()\n",
    "for i in range(5):\n",
    "    b = df_boroughs[boroughs_name[i]]\n",
    "    #b_grade_age = b.groupby(['grade','age']).count()['record']\n",
    "    grade_age_count[boroughs_name[i]]  = b.groupby(['grade','age']).count()['record']/borough_count.iloc[i].values\n",
    "grade_age_count"
   ]
  },
  {
   "cell_type": "markdown",
   "id": "b9d11e64",
   "metadata": {},
   "source": [
    "#### - Fig7 grade-age"
   ]
  },
  {
   "cell_type": "code",
   "execution_count": null,
   "id": "113680e5",
   "metadata": {},
   "outputs": [],
   "source": [
    "fig, axs = plt.subplots(2,2, figsize = ([12,8]))\n",
    "plt.suptitle('Age distribution in each grade')\n",
    "plt.subplots_adjust(wspace=0.2, hspace=0.4)\n",
    "for i in range(4):\n",
    "    axs[int(i/2),int(i%2)].set_title('grade '+str(grade[i]))\n",
    "    axs[int(i/2),int(i%2)].set_ylabel('proportion')\n",
    "    axs[int(i/2),int(i%2)].set_xticks(range(1,8), ['<=12']+types[1:-1]+['>=18'])\n",
    "    for j,b in enumerate(boroughs_name):\n",
    "        sns.lineplot(x=grade_age_count.T[i+1].columns,y=grade_age_count.T[i+1].T[b], \n",
    "                     ax = axs[int(i/2),int(i%2)], color = color_list[j+1], label=b, legend=False)\n",
    "\n",
    "fig.legend(boroughs_name, bbox_to_anchor=(1.05, 0.89), ncol=1)\n",
    "plt.savefig('../fig/part_1_7_grade_age.svg', bbox_inches='tight')"
   ]
  },
  {
   "cell_type": "code",
   "execution_count": null,
   "id": "7d2eba60",
   "metadata": {},
   "outputs": [],
   "source": [
    "df_boroughs5 = pd.DataFrame()\n",
    "\n",
    "for i in range(5):\n",
    "    b = df_boroughs[boroughs_name[i]]\n",
    "    df_boroughs5 = pd.concat((df_boroughs5,b))\n",
    "    #b_grade_age = b.groupby(['grade','age']).count()['record']\n",
    "    #grade_age_count[boroughs_name[i]]  = b.groupby(['grade','age']).count()['record']\n",
    "    \n",
    "#y=grade_age_count.T[1].T\n",
    "#y"
   ]
  },
  {
   "cell_type": "code",
   "execution_count": null,
   "id": "f6c4d592",
   "metadata": {
    "scrolled": true
   },
   "outputs": [],
   "source": [
    "fig, axs = plt.subplots(2,2,figsize = (12,8))\n",
    "\n",
    "for g in range(4):\n",
    "    for b in boroughs_code:\n",
    "        sta = df_boroughs5[(df_boroughs5['sitecode']==b) & (df_boroughs5['grade']==g+1)].age.dropna().values\n",
    "        sns.kdeplot(sta, ax= axs[int(g/2),int(g%2)], shade=None)\n",
    "    \n",
    "\n",
    "#ax.set_xticklabels(focuscrimes, rotation = 65)"
   ]
  },
  {
   "cell_type": "markdown",
   "id": "98cb9532",
   "metadata": {},
   "source": [
    "#### - Fig8 tab stacked bar"
   ]
  },
  {
   "cell_type": "code",
   "execution_count": null,
   "id": "d8bfc31d",
   "metadata": {},
   "outputs": [],
   "source": [
    "l1 = layout([[p_age]], sizing_mode='fixed')\n",
    "l2 = layout([[p_gender]], sizing_mode='fixed')\n",
    "l3 = layout([[p_race]], sizing_mode='fixed')\n",
    "\n",
    "tab1 = Panel(child=l1, title=\"Age\")\n",
    "tab2 = Panel(child=l2, title=\"Gender\")\n",
    "tab3 = Panel(child=l3, title=\"Race\")\n",
    "tabs = Tabs(tabs=[tab2, tab3, tab1])\n",
    "\n",
    "curdoc().add_root(tabs)\n",
    "\n",
    "html = file_html(tabs, CDN, \"my plot\")\n",
    "file = open(\"../fig/part_1_demographic.html\",\"w\")\n",
    "file.write(html)\n",
    "file.close()\n",
    "### individual plot cell to avoid re-assigning problem\n",
    "show(tabs)"
   ]
  },
  {
   "cell_type": "markdown",
   "id": "94305e52",
   "metadata": {},
   "source": [
    "### Comments of demographic overview\n",
    "\n",
    "#### Gender\n",
    "The dataset contains fairly unbiased distribution on genders, with gender ratio approximate to 1:1 for each borough, except that Manhattan shows a slightly higher proportion of female respondants with about 60%.\n",
    "\n",
    "#### Race\n",
    "- Respondants of the 5 boroughs don't share the same race distribution. Bronx, Manhatten and Queens are dominated by Hispanic/Latino students, while Brooklyn reports more Black/African American participants. To our surprise, Staten Island seems to be the only borough that are mostly comprised of White students.\n",
    "- Seeing from the line chart of the four ethnic groups in each borough, the race distribution of each borough remains rather steady through the years. Only few intersections, such as Black/African American with Hispanic/Latino in Brooklyn and White with Hispanic/Latino in Staten Island are shown, implying small fluctuations of the racial diversity.\n",
    "\n",
    "#### Age/Grade\n",
    "- The dataset is sampled in a similar distribution of age groups across boroughs, where 14-17 year-old participants takes part in the majority. Age 14, 15, 16 and 17 each contributes roughly 20%-25% of the total samples in each borough.\n",
    "- Similarly, the grade distribution is also the same across boroughs. The dataset is of high school students, so grade 9-12 are evenly sampled in all 5 boroughs.\n",
    "- Further check on the age distribution by grade across all boroughs, it can be seen that grade 9 students are centered around 14 years old, grade 10 around 15 years old, and so on and so forth. There are no signs of early or late schooling in any borough, because their pattern of grade-age distribution is almost the same."
   ]
  },
  {
   "cell_type": "markdown",
   "id": "0ecf783b",
   "metadata": {},
   "source": [
    "## 3. Smoking behavior analysis"
   ]
  },
  {
   "cell_type": "code",
   "execution_count": null,
   "id": "fd1e6b21",
   "metadata": {},
   "outputs": [],
   "source": [
    "### record possible useful question lists\n",
    "bullied = ['q23','q24']\n",
    "mentality_suicide = ['q25','q26','q27','q28','q29']\n",
    "\n",
    "cigarette = ['q30','q31','q32','q33']\n",
    "cigarette_start = ['q31']\n",
    "e_vapor = ['q34','q35','q36']\n",
    "other_nicotine_product = ['q37','q38']\n",
    "quit_tobacco = ['q39']\n",
    "\n",
    "alcohol = ['q40','q41','q42','q43','q44']\n",
    "drugs = ['q45','q46','q47','q48','q49','q50','q51','q52','q53','q54','q55','q56','q57']\n",
    "exercise = ['q78','q81','q82']\n",
    "TV_computer = ['q79','q80']\n",
    "dentisit = ['q86']\n",
    "sleep = ['q87']\n",
    "grade = ['q89']"
   ]
  },
  {
   "cell_type": "markdown",
   "id": "30f833b8",
   "metadata": {},
   "source": [
    "### 3.1 Some preprocessing: check if a question is in the survey each year\n",
    "\n",
    "'q30','q32','q33': have records all years  \n",
    "'q31': only valid in 2019"
   ]
  },
  {
   "cell_type": "code",
   "execution_count": null,
   "id": "266b702c",
   "metadata": {
    "scrolled": true
   },
   "outputs": [],
   "source": [
    "for y in years:\n",
    "    for i,b in enumerate(boroughs_name):\n",
    "        sta_borough = df_boroughs[b]\n",
    "        for question in cigarette:\n",
    "            print(y,b,question, pd.notnull(sta_borough[sta_borough['year']==y][question]).sum())"
   ]
  },
  {
   "cell_type": "markdown",
   "id": "256e7430",
   "metadata": {},
   "source": [
    "### 3.2 Smoking cigarette in each borough  \n",
    "In this section we analyze these four question:\n",
    "\n",
    "q30 Have you ever tried cigarette?  \n",
    "- 1.0: yes  \n",
    "- 2.0: no  \n",
    "\n",
    "q31 How old were you when you first tried smoking?\n",
    "- 1.0: never tried\n",
    "- 2.0: <=8 years old\n",
    "- 3.0: 9 or 10 years old\n",
    "- 4.0: 11 or 12 years old\n",
    "- 5.0: 13 or 14 years old\n",
    "- 6.0: 15 or 16 years old\n",
    "- 7.0: >=17 years old\n",
    "\n",
    "q32 How many days did you smoke in the last month?\n",
    "- 1.0: 0 days \n",
    "- 2.0: 1 or 2 days\n",
    "- 3.0: 3 to 5 days \n",
    "- 4.0:  6 to 9 days \n",
    "- 5.0:  10 to 19 days\n",
    "- 6.0:  20 to 29 days \n",
    "- 7.0:  All 30 days \n",
    " \n",
    "q33 How many cigarettes did you smoke per day on the days you have smoked in the last month?\n",
    "- 1.0: 0 \n",
    "- 2.0: <1\n",
    "- 3.0: 1 \n",
    "- 4.0: 2 to 5 \n",
    "- 5.0: 6 to 10\n",
    "- 6.0: 11 to 20 \n",
    "- 7.0: >20\n",
    "\n"
   ]
  },
  {
   "cell_type": "code",
   "execution_count": null,
   "id": "f3523cee",
   "metadata": {},
   "outputs": [],
   "source": [
    "tried_cigarette = pd.DataFrame()\n",
    "smoke_days_per_month = pd.DataFrame()\n",
    "cigarette_per_day = pd.DataFrame()\n",
    "\n",
    "for i,b in enumerate(boroughs_name):\n",
    "    sta_borough = df_boroughs[b]\n",
    "    tried_cigarette[b] = sta_borough.groupby('q30').count()['record']/len(sta_borough)\n",
    "    smoke_days_per_month[b] = sta_borough.groupby('q32').count()['record']#/len(sta_borough)\n",
    "    cigarette_per_day[b] = sta_borough.groupby('q33').count()['record']#/len(sta_borough)\n",
    "tried_cigarette.index=['tried smoking','never tried smoking']\n",
    "tried_cigarette"
   ]
  },
  {
   "cell_type": "code",
   "execution_count": null,
   "id": "951a9240",
   "metadata": {},
   "outputs": [],
   "source": [
    "geodata_path = \"NYC.geojson\";\n",
    "with open(geodata_path) as f:\n",
    "    geojson = json.load(f)\n",
    "\n",
    "geojson_Queens = geojson['features'][0]['geometry'];\n",
    "geojson_Brooklyn = geojson['features'][1]['geometry'];\n",
    "geojson_Bronx = geojson['features'][4]['geometry'];\n",
    "geojson_Manhattan = geojson['features'][3]['geometry'];\n",
    "geojson_StatenIsland = geojson['features'][2]['geometry'];\n",
    "\n",
    "geo_dict = {'Borough': ['Queens', 'Brooklyn', 'Bronx', 'Manhattan', 'StatenIsland'],\n",
    "     'geometry': [shape(geojson_Queens), shape(geojson_Brooklyn), shape(geojson_Bronx), shape(geojson_Manhattan),\n",
    "                  shape(geojson_StatenIsland)]};\n",
    "gdf_borough = gpd.GeoDataFrame(geo_dict).set_index(\"Borough\");\n",
    "\n",
    "gdf_borough"
   ]
  },
  {
   "cell_type": "markdown",
   "id": "a340d547",
   "metadata": {},
   "source": [
    "#### - Fig9 - pct of smokers\n"
   ]
  },
  {
   "cell_type": "code",
   "execution_count": null,
   "id": "92d35850",
   "metadata": {},
   "outputs": [],
   "source": [
    "def geoplot_answer(mapp, df) :\n",
    "    folium.TileLayer('Stamen Toner').add_to(mapp)\n",
    "    is_first = True;\n",
    "\n",
    "    for (col_name, col_data) in df.iteritems():\n",
    "        if (col_name == \"Borough\") :\n",
    "            continue;\n",
    "\n",
    "        folium.Choropleth(\n",
    "            geo_data=geojson,\n",
    "            name=\"Answer distribution for option \" + str(col_name),\n",
    "            data=df,\n",
    "            columns=[\"Borough\", col_name],\n",
    "            key_on=\"properties.boro_name\",\n",
    "            fill_color=\"BuPu\",\n",
    "            fill_opacity=0.7,\n",
    "            line_opacity=0.2,\n",
    "            legend_name=\"Answer rate for option \" + str(col_name),\n",
    "            show=is_first\n",
    "        ).add_to(mapp)\n",
    "\n",
    "        is_first = False;\n",
    "\n",
    "    folium.features.GeoJson(name=\"Borough borders\", data=geojson,\n",
    "                        style_function=lambda x :{'color': \"white\", \"weight\": 2},\n",
    "                        show=True).add_to(mapp)\n",
    "\n",
    "    folium.LayerControl().add_to(mapp)"
   ]
  },
  {
   "cell_type": "code",
   "execution_count": null,
   "id": "3170a9bc",
   "metadata": {
    "scrolled": true
   },
   "outputs": [],
   "source": [
    "cityhall_lat_lon = [40.7128, -74.0060];\n",
    "mapp = folium.Map(location=cityhall_lat_lon,\n",
    "                    tiles = \"openstreetmap\",\n",
    "                    zoom_start = 11);\n",
    "\n",
    "df = tried_cigarette.transpose().reset_index().rename(columns={\"index\":\"Borough\"});\n",
    "\n",
    "geoplot_answer(mapp, df);\n",
    "mapp.save(\"../fig/part_1_pct_smokers.html\")\n",
    "mapp"
   ]
  },
  {
   "cell_type": "markdown",
   "id": "070bea0a",
   "metadata": {},
   "source": [
    "#### Comment\n",
    "- Clearly, Staten Island and Queens reported more high school smokers - nearly 30% of high school students have tried smoking.\n",
    "- Bronx, Brooklyn and Manhattan have a similar level of high school smokers, which is lower than the forementioned two boroughs, at about 22%.\n",
    "#### ------------------------------------------------------------------------"
   ]
  },
  {
   "cell_type": "code",
   "execution_count": null,
   "id": "80c612bc",
   "metadata": {},
   "outputs": [],
   "source": [
    "days_smoke = ['0 days', '1 or 2 days', '3 to 5 days', '6 to 9 days', '10 to 19 days', '20 to 29 days', 'All 30 days']\n",
    "smoke_days_per_month.index = days_smoke\n",
    "smoke_days_per_month"
   ]
  },
  {
   "cell_type": "markdown",
   "id": "c39ffd9c",
   "metadata": {},
   "source": [
    "#### - Fig10.1"
   ]
  },
  {
   "cell_type": "code",
   "execution_count": null,
   "id": "66bd4bd0",
   "metadata": {},
   "outputs": [],
   "source": [
    "### days that have smoked - pct among smokers\n",
    "days_smoke = ['0 days', '1 or 2 days', '3 to 5 days', '6 to 9 days', '10 to 19 days', '20 to 29 days', 'All 30 days']\n",
    "(smoke_days_per_month.iloc[1:,:]/smoke_days_per_month.iloc[1:,:].sum()*100).T.plot(figsize=(6,6), kind='bar', \n",
    "                                                                                   stacked=True, color=color_list, \n",
    "                                                                                   yticks= np.linspace(0,100,21),\n",
    "                                                                                   rot=0)\n",
    "\n",
    "plt.title('% of days of smoking last month'),\n",
    "plt.ylabel('percentage(%)')\n",
    "plt.legend(days_smoke[1:],bbox_to_anchor=(1,1.01))\n",
    "\n",
    "plt.savefig('../fig/part_1_10_1_days_smoke_pct.svg', bbox_inches='tight')"
   ]
  },
  {
   "cell_type": "code",
   "execution_count": null,
   "id": "1bc6fd06",
   "metadata": {},
   "outputs": [],
   "source": [
    "answers = smoke_days_per_month.iloc[1:,:]/smoke_days_per_month.iloc[1:,:].sum()*100"
   ]
  },
  {
   "cell_type": "markdown",
   "id": "c9534aa4",
   "metadata": {},
   "source": [
    "####  -  Fig10.2 - frequency of smoking of smokers"
   ]
  },
  {
   "cell_type": "code",
   "execution_count": null,
   "id": "263e73cf",
   "metadata": {},
   "outputs": [],
   "source": [
    "cityhall_lat_lon = [40.7128, -74.0060];\n",
    "mapp = folium.Map(location=cityhall_lat_lon,\n",
    "                    tiles = \"openstreetmap\",\n",
    "                    zoom_start = 11);\n",
    "\n",
    "df = answers.transpose().reset_index().rename(columns={\"index\":\"Borough\"});\n",
    "\n",
    "geoplot_answer(mapp, df);\n",
    "mapp.save(\"../fig/part_1_days_smokers.html\")\n",
    "mapp"
   ]
  },
  {
   "cell_type": "markdown",
   "id": "34c79933",
   "metadata": {},
   "source": [
    "#### Comment\n",
    "- Since the amount of non-smokers is still overwhelmingly larger than smokers in all boroughs, we only visualize the sub-categories of smokers and analyze characteristics of smokers' behaviors in each borough.\n",
    "- Good news: In all boroughs, around 1/3 of the smokers only smoke occasionally, corresponding to the option 1 or 2 days in the last month. In Brooklyn and Manhatten the proportion is even larger, up to over 40%.\n",
    "- Both Queens and Staten Island reported significantly more smokers who smoke on over 20 days in a month. In particular, Staten Island seems to be the hot zone of heavy smokers, with smallest percentage of those who only smoke 1 or 2 days and largest percentage of those who smoke on all 30 days. In fact the percentage (and absolute number, too) of day-to-day smokers in Staten Island is so large that it doubles that of Manhatten.\n",
    "- Bronx shows a higher percentage of those who have smoked for 3 to 5 days. Be careful! These students are likely to more than just curious about cigarettes -- they are forming a habit of smoking!\n",
    "#### ------------------------------------------------------------------------\n"
   ]
  },
  {
   "cell_type": "code",
   "execution_count": null,
   "id": "122bb925",
   "metadata": {},
   "outputs": [],
   "source": [
    "cigarette_day_smoke = ['0', '<1', '1', '2 to 5' ,'6 to 10', '11 to 20', '>20']\n",
    "cigarette_per_day.index = cigarette_day_smoke\n",
    "cigarette_per_day"
   ]
  },
  {
   "cell_type": "code",
   "execution_count": null,
   "id": "c105264b",
   "metadata": {},
   "outputs": [],
   "source": [
    "# (cigarette_per_day.iloc[1:,:]/cigarette_per_day.iloc[1:,:].sum()*100)"
   ]
  },
  {
   "cell_type": "markdown",
   "id": "2d899702",
   "metadata": {},
   "source": [
    "#### - Fig11.1"
   ]
  },
  {
   "cell_type": "code",
   "execution_count": null,
   "id": "d8a99df9",
   "metadata": {
    "code_folding": []
   },
   "outputs": [],
   "source": [
    "(cigarette_per_day.iloc[1:,:]/cigarette_per_day.iloc[1:,:].sum()*100).T.plot(figsize=(6,6), kind='bar', \n",
    "                                                                                   stacked=True, color=color_list, \n",
    "                                                                                   yticks= np.linspace(0,100,21),\n",
    "                                                                                  rot=0)\n",
    "cigarette_day_smoke = ['0', '<1', '1', '2 to 5' ,'6 to 10', '11 to 20', '>20']\n",
    "plt.title('% of cigarette per day last month'),\n",
    "plt.ylabel('percentage(%)')\n",
    "plt.legend(cigarette_day_smoke[1:],bbox_to_anchor=(1,1.01))\n",
    "\n",
    "plt.savefig('../fig/part_1_11_1_per_day_pct.svg', bbox_inches='tight')"
   ]
  },
  {
   "cell_type": "code",
   "execution_count": null,
   "id": "1a6d1bd4",
   "metadata": {},
   "outputs": [],
   "source": [
    "answers = smoke_days_per_month.iloc[1:,:]/smoke_days_per_month.iloc[1:,:].sum()*100"
   ]
  },
  {
   "cell_type": "markdown",
   "id": "a5b09a25",
   "metadata": {},
   "source": [
    "#### - Fig11.2 -  number of cigarettes each day"
   ]
  },
  {
   "cell_type": "code",
   "execution_count": null,
   "id": "70edfa08",
   "metadata": {},
   "outputs": [],
   "source": [
    "cityhall_lat_lon = [40.7128, -74.0060];\n",
    "mapp = folium.Map(location=cityhall_lat_lon,\n",
    "                    tiles = \"openstreetmap\",\n",
    "                    zoom_start = 11);\n",
    "\n",
    "df = answers.transpose().reset_index().rename(columns={\"index\":\"Borough\"});\n",
    "\n",
    "geoplot_answer(mapp, df);\n",
    "mapp.save(\"../fig/part_1_cigarettes_perday_smokers.html\")\n",
    "mapp"
   ]
  },
  {
   "cell_type": "markdown",
   "id": "d3a28617",
   "metadata": {},
   "source": [
    "#### Comment\n",
    "- Again on heavy smokers -- Stanten Island win! Over 10% participants smoked more than 10 cigarettes per day, while less than 50% consume up to 1 cigerette daily.\n",
    "- Other 4 boroughs all have more than 50% participants smoking less than 1 cigerette, and more than 85% participants no more than 5 a day.\n",
    "- Manhattan reports the largest percentage of students smoke no more than 1 cigerrete per day and the smallest percentage of smoking more than 5 cigerattes per day.\n",
    "#### ------------------------------------------------------------------------"
   ]
  },
  {
   "cell_type": "code",
   "execution_count": null,
   "id": "6e5b6696",
   "metadata": {},
   "outputs": [],
   "source": [
    "#fig, axs = plt.subplots(2,3, figsize = ([16,10]), sharey=True, squeeze=False)\n",
    "#plt.subplots_adjust(wspace=0.1, hspace=0.4)\n",
    "#fig.delaxes(axs[1][2])\n",
    "\n",
    "cigarette_initiation = pd.DataFrame()\n",
    "cigarette_initiation_age = []\n",
    "for i,b in enumerate(boroughs_name):\n",
    "    sta_borough = df_boroughs[b]\n",
    "    sta_borough = sta_borough[sta_borough['year']==2019]\n",
    "    cigarette_initiation[b] = sta_borough.groupby('q31').count()['record']#/len(sta_borough)\n",
    "\n",
    "    s = sta_borough[sta_borough['q31']!=1]['q31'].dropna()\n",
    "    cigarette_initiation_age.append(s)\n",
    "    #s.plot(kind='hist',ax=axs[int(i/3),int(i%3)], width=0.2)"
   ]
  },
  {
   "cell_type": "code",
   "execution_count": null,
   "id": "cb845a9a",
   "metadata": {},
   "outputs": [],
   "source": [
    "# cigarette_initiation.iloc[1:]/cigarette_initiation.iloc[1:].sum()"
   ]
  },
  {
   "cell_type": "markdown",
   "id": "4090e417",
   "metadata": {},
   "source": [
    "#### - Fig12  starting to smoke age distribution"
   ]
  },
  {
   "cell_type": "code",
   "execution_count": null,
   "id": "e568ede6",
   "metadata": {
    "scrolled": false
   },
   "outputs": [],
   "source": [
    "fig, axs = plt.subplots(1,2, figsize = ([14,6]))\n",
    "fig.suptitle('Age distribution of starting smoking')\n",
    "plt.subplots_adjust(wspace=0.3)\n",
    "age_smoke = ['never tried','<=8 yo', '9/10 yo', '11/12 yo', \n",
    "             '13/14 yo', '15/16 yo', '>=17 yo']\n",
    "\n",
    "(cigarette_initiation.iloc[1:]/cigarette_initiation.iloc[1:].sum()).T.plot(kind='bar', ax=axs[0], stacked=True, \n",
    "                                                                           color=color_list, \n",
    "                                                                           rot=0)\n",
    "axs[0].set_title('% of age to start smoking')\n",
    "axs[0].set_ylabel('percentage(%)')\n",
    "axs[0].legend(age_smoke[1:],bbox_to_anchor=(0.86,-0.08),ncol=3)\n",
    "axs[0].set_yticks(np.linspace(0,1,21),np.linspace(0,100,21))\n",
    "\n",
    "box = dict(color='#1870c7')\n",
    "whisker = dict(color='#1870c7')\n",
    "cap = dict(color='#1870c7')\n",
    "\n",
    "axs[1].boxplot(cigarette_initiation_age,boxprops=box,whiskerprops=whisker,capprops=cap)\n",
    "axs[1].set_title('boxplot of starting smoking')\n",
    "axs[1].set_ylabel('age')\n",
    "axs[1].set_yticks(range(2,8),age_smoke[1:])\n",
    "axs[1].set_xticks(range(1,6),boroughs_name)\n",
    "#axs[1].legend(age_smoke,bbox_to_anchor=(-0.1,1.02))\n",
    "plt.savefig('../fig/part_1_12_smoke_age_distr.svg', bbox_inches='tight')"
   ]
  },
  {
   "cell_type": "markdown",
   "id": "dd428930",
   "metadata": {},
   "source": [
    "#### Comment - NEED MORE\n",
    "- Surprisingly, Bronx have significantly larger percentage of students who start smoking before 8 years old, which is about 30%. What's more, the distribution in Bronx is obviously asymmetrical, which leans expands more to younger groups.\n",
    "- Manhattan has a great proportion of almost 40% of smokers picking up smoking at 13 or 14 years, and compared to other 4 boroughs, an overall older age of smoking acquisition.\n",
    "\n"
   ]
  },
  {
   "cell_type": "markdown",
   "id": "4f53a1f6",
   "metadata": {},
   "source": [
    "### 3.3 Temporal change of tobacco usage"
   ]
  },
  {
   "cell_type": "code",
   "execution_count": null,
   "id": "d9d2f1c4",
   "metadata": {},
   "outputs": [],
   "source": [
    "yearly_smoke_percentage = pd.DataFrame(columns=boroughs_name,index=years)\n",
    "\n",
    "for i,b in enumerate(boroughs_name):\n",
    "    sta_borough = df_boroughs[b]\n",
    "    for y in years:\n",
    "        s = sta_borough[sta_borough['year']==y].groupby('q30').count()['record']\n",
    "        yearly_smoke_percentage.loc[y,b] = s.values[0]/s.sum()\n",
    "yearly_smoke_percentage"
   ]
  },
  {
   "cell_type": "markdown",
   "id": "0c6cd1ee",
   "metadata": {},
   "source": [
    "#### - Fig13.1 pct of smokers"
   ]
  },
  {
   "cell_type": "code",
   "execution_count": null,
   "id": "b9be28d4",
   "metadata": {},
   "outputs": [],
   "source": [
    "plt.figure(figsize=(8,4))\n",
    "yearly_smoke_percentage.plot(kind='line',color=color_list[1:],figsize=(6,4))\n",
    "\n",
    "plt.title('Yearly change of smokers proportion in students'),\n",
    "plt.ylabel('percentage(%)')\n",
    "plt.yticks(np.linspace(0,0.6,13),np.linspace(0,60,13))\n",
    "plt.xticks(np.linspace(2007,2019,7))\n",
    "plt.legend(bbox_to_anchor=(1.35,1.03))\n",
    "\n",
    "\n",
    "plt.savefig('../fig/part_1_13_time_smokers.svg', bbox_inches='tight')"
   ]
  },
  {
   "cell_type": "code",
   "execution_count": null,
   "id": "1627a97a",
   "metadata": {},
   "outputs": [],
   "source": [
    "yearly_smoke_percentage"
   ]
  },
  {
   "cell_type": "code",
   "execution_count": null,
   "id": "7a8cf3eb",
   "metadata": {},
   "outputs": [],
   "source": [
    "def geoplot_time_series(map, df, colors, title) :\n",
    "    # folium.TileLayer('openstreetmap').add_to(map);\n",
    "    # folium.TileLayer('Stamen Toner').add_to(map);\n",
    "\n",
    "    # colorscale = branca.colormap.linear.YlGnBu_09.scale(0, 30);\n",
    "    df = df.set_index(\"Borough\");\n",
    "\n",
    "    max_color = df.to_numpy().max();\n",
    "    min_color = df.to_numpy().min();\n",
    "    cmap = colors.scale(min_color, max_color);\n",
    "\n",
    "    df = df.reset_index();\n",
    "\n",
    "    df_color = df.copy()\n",
    "    for (col_name, col_data) in df.iteritems():\n",
    "            if (col_name == \"Borough\") :\n",
    "                continue;\n",
    "\n",
    "            df_color[col_name] = df[col_name].map(cmap)\n",
    "\n",
    "    style_dict = {};\n",
    "\n",
    "    for (_, row) in df_color.iterrows():\n",
    "        inner_dict = {};\n",
    "\n",
    "        for (col_name, col_data) in row.iteritems():\n",
    "            if (col_name == \"Borough\") :\n",
    "                continue;\n",
    "\n",
    "            inner_dict[\n",
    "                (int)((datetime.datetime(year=int(col_name), month=1,day=1)).timestamp())] = \\\n",
    "                                { 'color': row[int(col_name)], 'opacity': 0.7 };\n",
    "\n",
    "        style_dict[row[\"Borough\"].replace(' ', '')] = inner_dict;\n",
    "\n",
    "    map.add_child(\n",
    "        TimeSliderChoropleth(\n",
    "            data=gdf_borough.to_json(), styledict=style_dict, overlay=True\n",
    "        )\n",
    "    );\n",
    "\n",
    "    _ = cmap.add_to(map);\n",
    "    cmap.caption = title;"
   ]
  },
  {
   "cell_type": "markdown",
   "id": "ac06366f",
   "metadata": {},
   "source": [
    "#### - Fig13.2 - temporal (movie) in a map of smoking pct"
   ]
  },
  {
   "cell_type": "code",
   "execution_count": null,
   "id": "f4bf94aa",
   "metadata": {},
   "outputs": [],
   "source": [
    "cityhall_lat_lon = [40.7128, -74.0060];\n",
    "mapp = folium.Map(location=cityhall_lat_lon,\n",
    "                    tiles = \"openstreetmap\",\n",
    "                    zoom_start = 11);\n",
    "\n",
    "df = yearly_smoke_percentage.transpose().reset_index().rename(columns={\"index\": \"Borough\"});\n",
    "\n",
    "colors = branca.colormap.linear.YlGnBu_09;\n",
    "title = \"Yearly change of smoking rate\"\n",
    "geoplot_time_series(mapp, df, colors, title);\n",
    "mapp.save(\"../fig/part_1_year_smoking_percentage.html\")\n",
    "mapp"
   ]
  },
  {
   "cell_type": "markdown",
   "id": "a0849dc3",
   "metadata": {},
   "source": [
    "#### Comment\n",
    "- The high school students' smoking rate in all boroughs slide down quickly with time, starting from around 40%-50% in 2007 to around 10% in 2019. The slope remains steady for Bronx, Brooklyn and Manhatten, where the smoking rate decreses almost the same each year, while Queens were in a plateau in 2011-2015, and Staten Island went through a plummeting period in 2009-2011 and a remains stable after 2017.\n",
    "- Queens and Staten Island have retained a high smoking rate through most years, and both landed on slightly higher smoking rate in 2019 than other 3 boroughs. Recall that these are also sufferers of heavy smokers and early smokers, it should really raise a flag.\n",
    "#### ------------------------------------------------------------------------"
   ]
  },
  {
   "cell_type": "code",
   "execution_count": null,
   "id": "2c292f70",
   "metadata": {},
   "outputs": [],
   "source": [
    "yearly_heavy_smokers_percentage = pd.DataFrame(columns=boroughs_name,index=years)\n",
    "\n",
    "for i,b in enumerate(boroughs_name):\n",
    "    sta_borough = df_boroughs[b]\n",
    "    for y in years:\n",
    "        s = sta_borough[sta_borough['year']==y].groupby('q33').count()['record']\n",
    "        yearly_heavy_smokers_percentage.loc[y,b] = s.values[5:].sum()/s.values[1:].sum()\n",
    "yearly_heavy_smokers_percentage"
   ]
  },
  {
   "cell_type": "markdown",
   "id": "185a053a",
   "metadata": {},
   "source": [
    "#### - Fig14.1 pct of smoke >10 cigarettes"
   ]
  },
  {
   "cell_type": "code",
   "execution_count": null,
   "id": "8d943e8a",
   "metadata": {},
   "outputs": [],
   "source": [
    "yearly_heavy_smokers_percentage.plot(color=color_list[1:])\n",
    "\n",
    "\n",
    "plt.title('Yearly change of heavy smokers proportion in high school smokers'),\n",
    "plt.ylabel('percentage(%)')\n",
    "\n",
    "plt.xticks(np.linspace(2007,2019,7))\n",
    "plt.legend(bbox_to_anchor=(1.35,1.03))\n",
    "\n",
    "plt.savefig('../fig/part_1_14_heavy_smoker.svg', bbox_inches='tight')"
   ]
  },
  {
   "cell_type": "code",
   "execution_count": null,
   "id": "954e7160",
   "metadata": {},
   "outputs": [],
   "source": [
    "yearly_heavy_smokers_percentage"
   ]
  },
  {
   "cell_type": "markdown",
   "id": "7a24c9b2",
   "metadata": {},
   "source": [
    "#### - Fig14.2"
   ]
  },
  {
   "cell_type": "code",
   "execution_count": null,
   "id": "cd196a53",
   "metadata": {},
   "outputs": [],
   "source": [
    "cityhall_lat_lon = [40.7128, -74.0060];\n",
    "mapp = folium.Map(location=cityhall_lat_lon,\n",
    "                    tiles = \"openstreetmap\",\n",
    "                    zoom_start = 11);\n",
    "\n",
    "df = yearly_heavy_smokers_percentage.transpose().reset_index().rename(columns={\"index\": \"Borough\"});\n",
    "\n",
    "colors = branca.colormap.linear.YlGnBu_09;\n",
    "title = \"Yearly change of rate of heavy smokers\"\n",
    "geoplot_time_series(mapp, df, colors, title);\n",
    "mapp.save(\"../fig/part_1_year_heavy_smokers.html\")\n",
    "mapp"
   ]
  },
  {
   "cell_type": "markdown",
   "id": "f2c413fe",
   "metadata": {},
   "source": [
    "####  Comment\n",
    "- The USA CDC have defined an indicator on top of q33 results, demonstrating the proportion of people who smoke more than 10 cigarettes per day among smokers. \n",
    "- There is a sharp decrese from 2017 to 2019 in Queens.\n",
    "- Manhatten remains the lowest heavy smoker rate through the years.\n",
    "- Heavy smoker rate fluctuates mildly in Brooklyn, with an average of about 10%.\n",
    "- The heavy smoker rate in Staten Island and Bronx in general raises through the years. This phenomenon partly originated from the decrease in total number of smokers within these boroughs through the years.\n"
   ]
  },
  {
   "cell_type": "markdown",
   "id": "a609df93",
   "metadata": {},
   "source": [
    "### 3.4 Other tobacco products\n",
    "**e-vapor**  \n",
    "q34 Have you tried e-vapor product?\n",
    "- 1.0: yes\n",
    "- 2.0: no\n",
    "\n",
    "q35 How many days did you use e-vapor product in the last month?\n",
    "- 1.0:  0 days \n",
    "- 2.0:  1 or 2 days\n",
    "- 3.0:  3 to 5 days \n",
    "- 4.0:  6 to 9 days \n",
    "- 5.0:  10 to 19 days\n",
    "- 6.0:  20 to 29 days \n",
    "- 7.0:  All 30 days \n",
    " \n",
    "q36 During the past 30 days, how did you usually get e-vapor products?\n",
    "- 1.0: I did not use e-vapor products\n",
    "- 2.0: Store or gas station\n",
    "- 3.0: On the Internet \n",
    "- 4.0: I paid someone else to buy them\n",
    "- 5.0: Borrowed them from others\n",
    "- 6.0: Legal person gave me\n",
    "- 7.0: Took them from a store/family\n",
    "- 8.0: Some other way \n",
    " \n",
    "**cigars and others**\n",
    "\n",
    "q37 How many days did you use chewing tobacco, snuff, dip, snus or dissolvable tobacco products in the last month?\n",
    "- 1.0:  0 days \n",
    "- 2.0:  1 or 2 days\n",
    "- 3.0:  3 to 5 days \n",
    "- 4.0:  6 to 9 days \n",
    "- 5.0:  10 to 19 days\n",
    "- 6.0:  20 to 29 days \n",
    "- 7.0:  All 30 days \n",
    "\n",
    "q38 How many days did you use cigars, cigarillos or little cigars in the last month?\n",
    "- 1.0:  0 days \n",
    "- 2.0:  1 or 2 days\n",
    "- 3.0:  3 to 5 days \n",
    "- 4.0:  6 to 9 days \n",
    "- 5.0:  10 to 19 days\n",
    "- 6.0:  20 to 29 days \n",
    "- 7.0:  All 30 days \n"
   ]
  },
  {
   "cell_type": "markdown",
   "id": "f91769ad",
   "metadata": {},
   "source": [
    "#### check if the related questions are in the survey each year"
   ]
  },
  {
   "cell_type": "code",
   "execution_count": null,
   "id": "46f3657c",
   "metadata": {},
   "outputs": [],
   "source": [
    "for y in years:\n",
    "    for i,b in enumerate(boroughs_name):\n",
    "        sta_borough = df_boroughs[b]\n",
    "        for question in e_vapor:\n",
    "            print(y,b,question, pd.notnull(sta_borough[sta_borough['year']==y][question]).sum())\n",
    "        for question in other_nicotine_product:\n",
    "            print(y,b,question, pd.notnull(sta_borough[sta_borough['year']==y][question]).sum())\n",
    "        print(y,b,'q39', pd.notnull(sta_borough[sta_borough['year']==y]['q39']).sum())"
   ]
  },
  {
   "cell_type": "markdown",
   "id": "e1781fae",
   "metadata": {},
   "source": [
    "'q34': 2019  \n",
    "'q35': 2015, 2017, 2019  \n",
    "'q36': 2019  \n",
    "'q37': 2017  \n",
    "'q38': no 2011  \n",
    "'q39': no records"
   ]
  },
  {
   "cell_type": "markdown",
   "id": "3f49ebd1",
   "metadata": {},
   "source": [
    "#### grab data on e-vapor products and cigars\n",
    "q35 and q38 appear to have more abundant results to analyze, so we choose only these two questions."
   ]
  },
  {
   "cell_type": "code",
   "execution_count": null,
   "id": "785846df",
   "metadata": {},
   "outputs": [],
   "source": [
    "evapor_days_month = pd.DataFrame() #'q35'\n",
    "cigars_days_month = pd.DataFrame() #'q38'\n",
    "\n",
    "for i,b in enumerate(boroughs_name):\n",
    "    sta_borough = df_boroughs[b]\n",
    "    evapor_days_month[b] = sta_borough.groupby('q35').count()['record']#/sta_borough.groupby('q35').count()['record'].values[1:].sum()\n",
    "    cigars_days_month[b] = sta_borough.groupby('q38').count()['record']#/sta_borough.groupby('q38').count()['record'].values[1:].sum()\n",
    "    "
   ]
  },
  {
   "cell_type": "markdown",
   "id": "a245e9ee",
   "metadata": {},
   "source": [
    "#### explore evapor data"
   ]
  },
  {
   "cell_type": "code",
   "execution_count": null,
   "id": "8809c043",
   "metadata": {},
   "outputs": [],
   "source": [
    "evapor_no = (evapor_days_month.iloc[0]/evapor_days_month.sum())\n",
    "evapor_no#.plot(kind='bar')"
   ]
  },
  {
   "cell_type": "code",
   "execution_count": null,
   "id": "4f54eb2f",
   "metadata": {},
   "outputs": [],
   "source": [
    "evapor_days_percentage = evapor_days_month.iloc[1:]/evapor_days_month.iloc[1:].sum()\n",
    "evapor_days_percentage"
   ]
  },
  {
   "cell_type": "code",
   "execution_count": null,
   "id": "7eedcf45",
   "metadata": {},
   "outputs": [],
   "source": [
    "evapor_days_percentage.T.plot(figsize=(6,6), kind='bar', stacked=True, color=color_list, rot=0)\n",
    "\n",
    "plt.title('% of days of using e-vapor last month'),\n",
    "plt.ylabel('percentage(%)')\n",
    "plt.yticks(np.linspace(0,1,21),np.linspace(0,100,21))\n",
    "plt.legend(days_smoke,bbox_to_anchor=(1,1.01))\n",
    "plt.show()"
   ]
  },
  {
   "cell_type": "markdown",
   "id": "d6a470ad",
   "metadata": {},
   "source": [
    "#### explore cigars and alike"
   ]
  },
  {
   "cell_type": "code",
   "execution_count": null,
   "id": "a2b2556f",
   "metadata": {},
   "outputs": [],
   "source": [
    "cigars_days_month"
   ]
  },
  {
   "cell_type": "code",
   "execution_count": null,
   "id": "4a0c92c5",
   "metadata": {},
   "outputs": [],
   "source": [
    "cigars_no = (cigars_days_month.iloc[0]/cigars_days_month.sum())\n",
    "cigars_no#.plot(kind='bar')"
   ]
  },
  {
   "cell_type": "code",
   "execution_count": null,
   "id": "952d3492",
   "metadata": {},
   "outputs": [],
   "source": [
    "cigars_days_percentage = cigars_days_month.iloc[1:]/cigars_days_month.iloc[1:].sum()\n",
    "cigars_days_percentage.T.plot(figsize=(6,6), kind='bar', stacked=True, color=color_list, rot=0)\n",
    "\n",
    "plt.title('% of days of using e-cigars and alike last month'),\n",
    "plt.ylabel('percentage(%)')\n",
    "plt.yticks(np.linspace(0,1,21),np.linspace(0,100,21))\n",
    "plt.legend(days_smoke,bbox_to_anchor=(1,1.01))\n",
    "plt.show()"
   ]
  },
  {
   "cell_type": "markdown",
   "id": "5e4998fc",
   "metadata": {},
   "source": [
    "####  cigarettes correlated with evapor/cigars?"
   ]
  },
  {
   "cell_type": "code",
   "execution_count": null,
   "id": "463b6489",
   "metadata": {},
   "outputs": [],
   "source": [
    "df_boroughs5_from_2015 = df_boroughs5[(df_boroughs5['year']>=2015)][['q32','q35','q38']].dropna() \n",
    "\n",
    "for i in ['q32','q35','q38']:\n",
    "    s = np.array(df_boroughs5_from_2015[i]-1,dtype=bool)\n",
    "    df_boroughs5_from_2015[i+'_bin'] = np.array(s,dtype=int)\n",
    "df_boroughs5_from_2015"
   ]
  },
  {
   "cell_type": "markdown",
   "id": "d83ff156",
   "metadata": {},
   "source": [
    "#### ------------------------------------------------------------------------\n",
    "#### - Fig15 comparing evapor and cigars"
   ]
  },
  {
   "cell_type": "code",
   "execution_count": null,
   "id": "e8f827cb",
   "metadata": {},
   "outputs": [],
   "source": [
    "fig, axs = plt.subplots(1,2, figsize = ([14,6]))\n",
    "fig.suptitle('Age distribution of smoking e-vapor vs. cigars and alike')\n",
    "\n",
    "plt.subplots_adjust(wspace=0.3)\n",
    "\n",
    "\n",
    "evapor_days_percentage.T.plot(kind='bar', stacked=True, color=color_list, rot=0, ax=axs[0], legend=False)\n",
    "axs[0].set_title('% of days of using e-vapor last month'),\n",
    "axs[0].set_ylabel('percentage(%)')\n",
    "axs[0].set_yticks(np.linspace(0,1,21),np.linspace(0,100,21))\n",
    "# axs[0].legend(days_smoke,bbox_to_anchor=(1,1.01))\n",
    "\n",
    "\n",
    "cigars_days_percentage = cigars_days_month.iloc[1:]/cigars_days_month.iloc[1:].sum()\n",
    "cigars_days_percentage.T.plot(kind='bar', stacked=True, color=color_list, rot=0, ax=axs[1],legend=False)\n",
    "\n",
    "axs[1].set_title('% of days of using e-cigars and alike last month'),\n",
    "axs[1].set_ylabel('percentage(%)')\n",
    "axs[1].set_yticks(np.linspace(0,1,21),np.linspace(0,100,21))\n",
    "\n",
    "axs[0].legend(days_smoke[1:],bbox_to_anchor=(2,-0.1),ncol=6)\n",
    "plt.savefig('../fig/part_1_15_other.svg', bbox_inches='tight')\n"
   ]
  },
  {
   "cell_type": "markdown",
   "id": "8c5b911e",
   "metadata": {},
   "source": [
    "#### - Fig16 correlation between products"
   ]
  },
  {
   "cell_type": "code",
   "execution_count": null,
   "id": "79835049",
   "metadata": {
    "scrolled": true
   },
   "outputs": [],
   "source": [
    "fig, axs = plt.subplots(1,3,figsize = (16,4))\n",
    "plt.suptitle('Correlation of smoking diffrent tobacco products')\n",
    "plt.subplots_adjust(top=0.8)\n",
    "sns.heatmap(df_boroughs5_from_2015[['q32','q35','q38']].corr(), annot=True,ax=axs[0])\n",
    "axs[0].set_title('all answers')\n",
    "axs[0].xaxis.set_ticklabels(['cigarettes', 'e-vapor','cigars'])\n",
    "axs[0].yaxis.set_ticklabels(['cigarettes', 'e-vapor','cigars'])\n",
    "\n",
    "sns.heatmap(df_boroughs5_from_2015[['q32_bin', 'q35_bin', 'q38_bin']].corr(), annot=True,ax=axs[1])\n",
    "axs[1].set_title('binarized answers')\n",
    "axs[1].xaxis.set_ticklabels(['cigarettes', 'e-vapor','cigars'])\n",
    "axs[1].yaxis.set_ticklabels(['cigarettes', 'e-vapor','cigars'])\n",
    "\n",
    "sns.heatmap(df_boroughs5_from_2015[(df_boroughs5_from_2015['q32']!=1) \n",
    "                       & (df_boroughs5_from_2015['q35']!=1) \n",
    "                       & (df_boroughs5_from_2015['q38']!=1)][['q32', 'q35', 'q38']].corr(), annot=True,ax=axs[2])\n",
    "axs[2].set_title('answers among smokers')\n",
    "axs[2].xaxis.set_ticklabels(['cigarettes', 'e-vapor','cigars'])\n",
    "axs[2].yaxis.set_ticklabels(['cigarettes', 'e-vapor','cigars'])\n",
    "plt.savefig('../fig/part_1_16_correlation.svg', bbox_inches='tight')"
   ]
  },
  {
   "cell_type": "markdown",
   "id": "05093183",
   "metadata": {},
   "source": [
    "#### Comment\n",
    "- The patterns of days of smoking e-vapor and cigars per month don't differ much between boroughs.\n",
    "- Smoking regular cigarettes, e-vapor products and cigars and alike are not strongly correlated, which means that smoking one type of product doesn't imply smoking other two products, and smoking one product very often in the last month doesn't necessarily imply smoking other two also that often.\n",
    "- The frequency of smoking different products among smokers are  higher correlated than that of among the whole population, indicating the possible predictability whithin smokers."
   ]
  },
  {
   "cell_type": "markdown",
   "id": "e724c182",
   "metadata": {},
   "source": [
    "# School analysis\n",
    "## 1. Check consistency of survey questions 2016-2019"
   ]
  },
  {
   "cell_type": "markdown",
   "id": "8360d1b5",
   "metadata": {},
   "source": [
    "#### 2016"
   ]
  },
  {
   "cell_type": "code",
   "execution_count": null,
   "id": "75786caa",
   "metadata": {},
   "outputs": [],
   "source": [
    "q2016 = \"DBN;;School Name;;Total Student Response Rate;;1a. This school offers a wide enough variety of programs, classes and activities to keep me interested in school.;;1b. The programs, classes, and activities at this school encourage students to develop talent outside academics.;;1c. This school is kept clean.;;1d. Most students at this school treat each other with respect.;;1e. At this school students with disabilities are included in all school activities (lunch, class trips, etc.).;;1f. My teachers use examples of students’ different cultures/backgrounds/families in their lessons to make learning more meaningful for me.;;1g. I see people of many races, ethnicities, cultures, and backgrounds represented in the curriculum.;;1h. My teachers call on students of different races, ethnicities, cultures, and backgrounds.;;1i. I feel that my teachers respect my culture/background.;;2a. I learn a lot from feedback on my work.;;2b. It's clear what I need to do to get a good grade.;;2c. The work we do in class is good preparation for our class tests.;;2d. The homework assignments help me learn the course material.;;2e. I know what my teacher wants me to learn in class.;;3a. My teachers help me catch up if I am behind.;;3b. My teachers notice if I have trouble learning something.;;3c. My teachers give me specific suggestions about how I can improve my work in class.;;3d. My teachers explain things a different way if I don't understand something in class.;;3e. My teachers notice when I am upset.;;4a. In how many of your classes are you challenged?;;4b. In how many of your classes do your teachers ask difficult questions on tests?;;4c. In how many of your classes do your teachers ask difficult questions in class?;;4d. In how many of your classes do you work in small groups?;;4e. In how many of your classes do your teachers want students to become better thinkers, not just memorize things?;;5a. I’m learning a lot in my classes at this school to prepare me for the next level or grade.;;5b. There is at least one adult in the school that I can confide in.;;5c. My teachers will always listen to students' ideas.;;5d. My teachers always keep their promises.;;5e. My teachers treat me with respect.;;5f. When my teachers tell me not to do something, I know they have a good reason.;;5g. My classes at this school really make me think.;;5h. Discipline is applied fairly in my school.;;5i. School Safety Agents promote a safe and respectful environment at this school.;;6a. In how many of your classes at this school do students listen carefully when the teacher gives directions?;;6b. In how many of your classes at this school do students follow the rules in class?;;6c. In how many of your classes at this school do students pay attention when they are supposed to?;;6d. In how many of your classes at this school do students work when they are supposed to?;;6e. In how many of your classes at this school do students behave well even when the teacher isn't watching?;;6f. In how many of your classes at this school do students feel it is important to come to school every day?;;6g. In how many of your classes at this school do students feel it is important to pay attention in class?;;6h. In how many of your classes at this school do students think doing homework is important?;;6i. In how many of your classes at this school do students try hard to get good grades?;;7a. I feel safe outside around this school.;;7b. I feel safe traveling between home and this school.;;7c. I feel safe in the hallways, bathrooms, locker rooms, and cafeteria of this school.;;7d. I feel safe in my classes at this school.;;8a. At this school students harass, bully or intimidate other students.;;8b. At this school students harass, bully, or intimidate each other because of their race or ethnicity. ;;8c. At this school students harass, bully, or intimidate each other because of their gender, gender identity, gender expression, or sexual orientation.;;8d. At this school students harass, bully, or intimidate each other because of other differences, like national origin, citizenship/immigration status, religion, disability, or weight.;;8e. At this school students get into physical fights.;;8f. At this school students drink alcohol, use illegal drugs, or abuse prescription drugs while at school.;;8g. At this school there is gang activity.;;9a. If you are a student in grades 6-8, ANSWER this question. This school provides useful information to students about the application/enrollment process to high school.;;9b. If you are a student in grades 6-8, ANSWER this question. This school provides guidance for the application process for high school.;;9c. If you are a student in grades 6-8, ANSWER this question. This school educates families about the application/enrollment process for high school.;;10a. If you are a student in grades 9-12, ANSWER this question. Adults at this school (including teachers, administrators, counselors, and the principal) help keep me on track for college or career. ;;10b. If you are a student in grades 9-12, ANSWER this question. Adults at this school (including teachers, administrators, counselors, and the principal) provide me with information about the college enrollment process.;;10c. If you are a student in grades 9-12, ANSWER this question. Adults at this school (including teachers, administrators, counselors, and the principal) help me plan for my next steps after graduation (career planning, college selection and application process, financial aid process, etc.).;;10d. If you are a student in grades 9-12, ANSWER this question. Adults at this school (including teachers, administrators, counselors, and the principal) help me choose which colleges to apply to.;;10e. If you are a student in grades 9-12, ANSWER this question. Adults at this school (including teachers, administrators, counselors, and the principal) talk with me about how to pay for college. ;;10f. If you are a student in grades 9-12, ANSWER this question. Adults at this school (including teachers, administrators, counselors, and the principal) help me plan for how to meet my future career goals\"\n",
    "q2016 = q2016.split(';;')\n",
    "# len(q2016)"
   ]
  },
  {
   "cell_type": "code",
   "execution_count": null,
   "id": "17da179f",
   "metadata": {
    "scrolled": true
   },
   "outputs": [],
   "source": [
    "q2016"
   ]
  },
  {
   "cell_type": "markdown",
   "id": "d314e3e3",
   "metadata": {},
   "source": [
    "#### 2017"
   ]
  },
  {
   "cell_type": "code",
   "execution_count": null,
   "id": "86850f81",
   "metadata": {},
   "outputs": [],
   "source": [
    "q2017 = \"DBN;;School Name;;Total Student Response Rate;;1a. This school offers a wide enough variety of programs, classes and activities to keep me interested in school.;;1b. The programs, classes, and activities at this school encourage students to develop talent outside academics.;;1c. This school is kept clean.;;1d. Most students at this school treat each other with respect.;;1e. At this school students with disabilities are included in all school activities (lunch, class trips, etc.).;;1f. My teachers use examples of students’ different cultures/backgrounds/families in their lessons to make learning more meaningful for me.;;1g. I see people of many races, ethnicities, cultures, and backgrounds represented in the curriculum.;;1h. In general, my teachers treat students from different cultures or backgrounds equally.;;1i. I feel that my teachers respect my culture/background.;;1j. In general, my teachers make their lessons relevant to my everday life experiences.;;1k. In general, my teachers present positive images of people from a variety of races, ethnicities, cultures, and backgrounds.;;2a. I learn a lot from feedback on my work.;;2b. It's clear what I need to do to get a good grade.;;2c. The work we do in class is good preparation for our class tests.;;2d. The homework assignments help me learn the course material.;;2e. I know what my teacher wants me to learn in class.;;3a. My teachers help me catch up if I am behind.;;3b. My teachers notice if I have trouble learning something.;;3c. My teachers give me specific suggestions about how I can improve my work in class.;;3d. My teachers explain things a different way if I don't understand something in class.;;3e. My teachers support me when I am upset.;;4a. I’m learning a lot in my classes at this school to prepare me for the next level or grade.;;4b. There is at least one adult in the school that I can confide in.;;4c. My teachers will always listen to students' ideas.;;4d. My teachers always do what they say they will do.;;4e. My teachers treat me with respect.;;4f. When my teachers tell me not to do something, I know they have a good reason.;;4g. My classes at this school really make me think critically.;;4h. Discipline is applied fairly in my school.;;4i. School Safety Agents promote a safe and respectful environment at this school.;;5a. In how many of your classes are you challenged?;;5b. In how many of your classes do your teachers ask difficult questions on tests?;;5c. In how many of your classes do your teachers ask difficult questions in class?;;5d. In how many of your classes do you work in small groups?;;5e. In how many of your classes do your teachers want students to become better thinkers, not just memorize things?;;6a. In how many of your classes at this school do YOU feel most students listen carefully when the teacher gives directions?;;6b. In how many of your classes at this school do YOU feel most students follow the rules in class?;;6c. In how many of your classes at this school do YOU feel most students pay attention when they are supposed to?;;6d. In how many of your classes at this school do YOU feel most students work when they are supposed to?;;6e. In how many of your classes at this school do YOU feel most students behave well even when the teacher isn't watching?;;6f. In how many of your classes at this school do YOU feel most students feel it is important to come to school every day?;;6g. In how many of your classes at this school do YOU feel most students feel it is important to pay attention in class?;;6h. In how many of your classes at this school do YOU feel most students think doing homework is important?;;6i. In how many of your classes at this school do YOU feel most students try hard to get good grades?;;7a. I feel safe outside around this school.;;7b. I feel safe traveling between home and this school.;;7c. I feel safe in the hallways, bathrooms, locker rooms, and cafeteria of this school.;;7d. I feel safe in my classes at this school.;;8a. At this school students harass, bully or intimidate other students.;;8b. At this school students harass, bully, or intimidate each other because of their race, religion, ethnicity, national origin, or citizenship/immigration status. ;;8c. At this school students harass, bully, or intimidate each other because of their gender, gender identity, gender expression, or sexual orientation.;;8d. At this school students harass, bully, or intimidate each other because of other differences, like disability or weight.;;8e. At this school students get into physical fights.;;8f. At this school students drink alcohol, use illegal drugs, or abuse prescription drugs while at school.;;8g. At this school there is gang activity.;;9a. If you are a student in grades 6-8, ANSWER this question. If you are a student in grades 9-12, SKIP this question. How much do YOU agree with the following statements? This school provides useful information to students about the application/enrollment process to high school.;;9b. If you are a student in grades 6-8, ANSWER this question. If you are a student in grades 9-12, SKIP this question. How much do YOU agree with the following statements? This school provides guidance for the application process for high school.;;9c. If you are a student in grades 6-8, ANSWER this question. If you are a student in grades 9-12, SKIP this question. How much do YOU agree with the following statements? This school educates families about the application/enrollment process for high school.;;10a.  If you are a student in grades 9-12, ANSWER this question. How much do YOU agree with the following statements? Adults at this school (including teachers, administrators, counselors, and the principal) encourage me to continue my education after high school. ;;10b.  If you are a student in grades 9-12, ANSWER this question. How much do YOU agree with the following statements? Adults at this school (including teachers, administrators, counselors, and the principal) provide me with information about the college enrollment process (college selection and application process, financial aid process, course registration, etc.).;;10c.  If you are a student in grades 9-12, ANSWER this question. How much do YOU agree with the following statements? Adults at this school (including teachers, administrators, counselors, and the principal) help me plan for how to meet my future career goals. ;;11a.  If you are a student in grades 9-12, ANSWER this question. How much do YOU agree with the following statements? Adults at this school (including teachers, administrators, counselors, and the principal) help me consider which colleges to apply to.;;11b.  If you are a student in grades 9-12, ANSWER this question. How much do YOU agree with the following statements? Adults at this school (including teachers, administrators, counselors, and the principal) show me options for how to pay for college (scholarship, grants, loans, work study programs, etc.).\"\n",
    "q2017 = q2017.split(';;')\n",
    "\n",
    "a = list(set(q2016).intersection(q2017))\n",
    "len(a)\n",
    "a.sort()\n",
    "a"
   ]
  },
  {
   "cell_type": "code",
   "execution_count": null,
   "id": "1ee3b63c",
   "metadata": {
    "scrolled": true
   },
   "outputs": [],
   "source": [
    "for i in q2016:\n",
    "    if i not in a:\n",
    "        print(i)"
   ]
  },
  {
   "cell_type": "markdown",
   "id": "e22c2ce4",
   "metadata": {},
   "source": [
    "#### 2018"
   ]
  },
  {
   "cell_type": "code",
   "execution_count": null,
   "id": "9f3fd749",
   "metadata": {},
   "outputs": [],
   "source": [
    "q2018 = \"DBN;;School Name;;Total Student Response Rate;;1a. This school offers a wide enough variety of programs, classes and activities to keep me interested in school.;;1b. The programs, classes, and activities at this school encourage students to develop talent outside academics.;;1c. This school is kept clean.;;1d. Most students at this school treat each other with respect.;;1e. At this school students with disabilities are included in all school activities (lunch, class trips, etc.).;;1f. My teachers use examples of students’ different cultures/backgrounds/families in their lessons to make learning more meaningful for me.;;1g. I see people of many races, ethnicities, cultures, and backgrounds represented in the curriculum.;;1h. In general, my teachers treat students from different cultures or backgrounds equally.;;1i. I feel that my teachers respect my culture/background.;;1j. In general, my teachers make their lessons relevant to my everday life experiences.;;1k. In general, my teachers present positive images of people from a variety of races, ethnicities, cultures, and backgrounds.;;2a. I learn a lot from feedback on my work.;;2b. It's clear what I need to do to get a good grade.;;2c. The work we do in class is good preparation for our class tests.;;2d. The homework assignments help me learn the course material.;;2e. I know what my teacher wants me to learn in class.;;3a. My teachers help me catch up if I am behind.;;3b. My teachers notice if I have trouble learning something.;;3c. My teachers give me specific suggestions about how I can improve my work in class.;;3d. My teachers explain things a different way if I don't understand something in class.;;3e. My teachers support me when I am upset.;;4a. I’m learning a lot in my classes at this school to prepare me for the next level or grade.;;4b. There is at least one adult in the school that I can confide in.;;4c. My teachers will always listen to students' ideas.;;4d. My teachers always do what they say they will do.;;4e. My teachers treat me with respect.;;4f. When my teachers tell me not to do something, I know they have a good reason.;;4g. My classes at this school really make me think critically.;;4h. Discipline is applied fairly in my school.;;4i. School Safety Agents promote a safe and respectful environment at this school.;;5a. In how many of your classes are you challenged?;;5b. In how many of your classes do your teachers ask difficult questions on tests?;;5c. In how many of your classes do your teachers ask difficult questions in class?;;5d. In how many of your classes do you work in small groups?;;5e. In how many of your classes do your teachers want students to become better thinkers, not just memorize things?;;6a. In how many of your classes at this school do YOU feel most students listen carefully when the teacher gives directions?;;6b. In how many of your classes at this school do YOU feel most students follow the rules in class?;;6c. In how many of your classes at this school do YOU feel most students pay attention when they are supposed to?;;6d. In how many of your classes at this school do YOU feel most students work when they are supposed to?;;6e. In how many of your classes at this school do YOU feel most students behave well even when the teacher isn't watching?;;6f. In how many of your classes at this school do YOU feel most students feel it is important to come to school every day?;;6g. In how many of your classes at this school do YOU feel most students feel it is important to pay attention in class?;;6h. In how many of your classes at this school do YOU feel most students think doing homework is important?;;6i. In how many of your classes at this school do YOU feel most students try hard to get good grades?;;7a. I feel safe outside around this school.;;7b. I feel safe traveling between home and this school.;;7c. I feel safe in the hallways, bathrooms, locker rooms, and cafeteria of this school.;;7d. I feel safe in my classes at this school.;;8a. At this school students harass, bully or intimidate other students.;;8b. At this school students harass, bully, or intimidate each other because of their race, religion, ethnicity, national origin, or citizenship/immigration status. ;;8c. At this school students harass, bully, or intimidate each other because of their gender, gender identity, gender expression, or sexual orientation.;;8d. At this school students harass, bully, or intimidate each other because of other differences, like disability or weight.;;8e. At this school students get into physical fights.;;8f. At this school students drink alcohol, use illegal drugs, or abuse prescription drugs while at school.;;8g. At this school there is gang activity.;;9a. For Middle School: This school provides guidance for the application process for high school.;;9b. For Middle School: This school educates families about the application/enrollment process for high school.;;10a. For High School: Adults at this school (including teachers, administrators, counselors, and the principal) talk to me about what I plan to do after high school.;;10b. For High School: Adults at this school (including teachers, administrators, counselors, and the principal) encourage me to continue my education after high school.;;10c. For High School: Adults at this school (including teachers, administrators, counselors, and the principal) provide me with information about the college application process.;;10d. For High School: Adults at this school (including teachers, administrators, counselors, and the principal) help me plan for how to meet my future career goals. ;;11a. For High School: Adults at this school (including teachers, administrators, counselors, and the principal) help me consider which colleges to apply to.;;11b. For High School: Adults at this school (including teachers, administrators, counselors, and the principal) show me options for how to pay for college (scholarship, grants, loans, work study programs, etc.).\"\n",
    "q2018 = q2018.split(\";;\")"
   ]
  },
  {
   "cell_type": "code",
   "execution_count": null,
   "id": "f347690e",
   "metadata": {
    "scrolled": true
   },
   "outputs": [],
   "source": [
    "q2018"
   ]
  },
  {
   "cell_type": "code",
   "execution_count": null,
   "id": "ee5a8b51",
   "metadata": {},
   "outputs": [],
   "source": [
    "b = list(set(q2017).intersection(q2018))\n",
    "b.sort()\n",
    "b"
   ]
  },
  {
   "cell_type": "code",
   "execution_count": null,
   "id": "0420b25c",
   "metadata": {
    "scrolled": true
   },
   "outputs": [],
   "source": [
    "for i in q2017:\n",
    "    if i not in b:\n",
    "        print(i)"
   ]
  },
  {
   "cell_type": "code",
   "execution_count": null,
   "id": "5fe23971",
   "metadata": {
    "scrolled": true
   },
   "outputs": [],
   "source": [
    "for i in q2018:\n",
    "    if i not in b:\n",
    "        print(i)"
   ]
  },
  {
   "cell_type": "markdown",
   "id": "6bcca85d",
   "metadata": {},
   "source": [
    "#### 2019"
   ]
  },
  {
   "cell_type": "code",
   "execution_count": null,
   "id": "08532810",
   "metadata": {},
   "outputs": [],
   "source": [
    "q2019 = \"DBN;;School Name;;Total Student Response Rate;;1a. This school offers a wide enough variety of programs, classes and activities to keep me interested in school.;;1b. The programs, classes, and activities at this school encourage students to develop talent outside academics.;;1c. This school is kept clean.;;1d. Most students at this school treat each other with respect.;;1e. At this school, students with disabilities are included in all school activities (lunch, class trips, etc.).;;1f. My teachers use examples of students’ different cultures/backgrounds/families in their lessons to make learning more meaningful for me.;;1g. I see people of many races, ethnicities, cultures, and backgrounds represented in the curriculum.;;1h. In general, my teachers treat students from different cultures or backgrounds equally.;;1i. I feel that my teachers respect my culture/background.;;1j. In general, my teachers make their lessons relevant to my everyday life experiences.;;1k. In general, my teachers present positive images of people from a variety of races, ethnicities, cultures, and backgrounds.;;2a. I learn a lot from feedback on my work.;;2b. It's clear what I need to do to get a good grade.;;2c. The work we do in class is good preparation for our class tests.;;2d. The homework assignments help me learn the course material.;;2e. I know what my teacher wants me to learn in class.;;3a. My teachers help me catch up if I am behind.;;3b. My teachers notice if I have trouble learning something.;;3c. My teachers give me specific suggestions about how I can improve my work in class.;;3d. My teachers explain things a different way if I don't understand something in class.;;3e. My teachers support me when I am upset.;;4a. I’m learning a lot in my classes at this school to prepare me for the next level or grade.;;4b. There is at least one adult in the school that I can confide in.;;4c. My teachers will always listen to students' ideas.;;4d. My teachers always do what they say they will do.;;4e. My teachers treat me with respect.;;4f. When my teachers tell me not to do something, I know they have a good reason.;;4g. My classes at this school really make me think critically.;;4h. Discipline is applied fairly in my school.;;4i. School Safety Agents promote a safe and respectful environment at this school.;;5a. In how many of your classes are you challenged?;;5b. In how many of your classes do your teachers ask difficult questions on tests?;;5c. In how many of your classes do your teachers ask difficult questions in class?;;5d. In how many of your classes do you work in small groups?;;5e. In how many of your classes do your teachers want students to become better thinkers, not just memorize things?;;6a. In how many of your classes at this school do YOU feel most students listen carefully when the teacher gives directions?;;6b. In how many of your classes at this school do YOU feel most students follow the rules in class?;;6c. In how many of your classes at this school do YOU feel most students pay attention when they are supposed to?;;6d. In how many of your classes at this school do YOU feel most students work when they are supposed to?;;6e. In how many of your classes at this school do YOU feel most students behave well even when the teacher isn't watching?;;6f. In how many of your classes at this school do YOU feel most students feel it is important to come to school every day?;;6g. In how many of your classes at this school do YOU feel most students feel it is important to pay attention in class?;;6h. In how many of your classes at this school do YOU feel most students think doing homework is important?;;6i. In how many of your classes at this school do YOU feel most students try hard to get good grades?;;7a. I feel safe outside around this school.;;7b. I feel safe traveling between home and this school.;;7c. I feel safe in the hallways, bathrooms, locker rooms, and cafeteria of this school.;;7d. I feel safe in my classes at this school.;;8a. At this school students harass, bully or intimidate other students.;;8b. At this school students harass, bully, or intimidate each other because of their race, religion, ethnicity, national origin, or citizenship/immigration status. ;;8c. At this school students harass, bully, or intimidate each other because of their gender, gender identity, gender expression, or sexual orientation.;;8d. At this school students harass, bully, or intimidate each other because of other differences, like disability or weight.;;8e. At this school students harass, bully, or intimidate each other online (through mobile phones, social media, email, or other forms of electronic communication). ;;8f. At this school students get into physical fights.;;8g. At this school students drink alcohol, use illegal drugs, or abuse prescription drugs while at school.;;8h. At this school there is gang activity.;;9a. For Middle School: This school provides guidance for the application process for high school.;;9b. For Middle School: This school educates families about the application/enrollment process for high school.;;10a. For High School: Adults at this school (including teachers, administrators, counselors, and the principal) talk to me about what I plan to do after high school.;;10b. For High School: Adults at this school (including teachers, administrators, counselors, and the principal) encourage me to continue my education after high school.;;10c. For High School: Adults at this school (including teachers, administrators, counselors, and the principal) provide me with information about the college application process.;;10d.   For High School: Adults at this school (including teachers, administrators, counselors, and the principal) help me plan for how to meet my future career goals. ;;11a. For High School: Adults at this school (including teachers, administrators, counselors, and the principal) help me consider which colleges to apply to.;;11b. For High School: Adults at this school (including teachers, administrators, counselors, and the principal) show me options for how to pay for college (scholarship, grants, loans, work study programs, etc.).\"\n",
    "q2019 = q2019.split(';;')\n",
    "c = list(set(b).intersection(q2019))\n",
    "c.sort()"
   ]
  },
  {
   "cell_type": "code",
   "execution_count": null,
   "id": "aba78f17",
   "metadata": {
    "scrolled": true
   },
   "outputs": [],
   "source": [
    "q2019"
   ]
  },
  {
   "cell_type": "code",
   "execution_count": null,
   "id": "2580bbbf",
   "metadata": {
    "scrolled": true
   },
   "outputs": [],
   "source": [
    "c"
   ]
  },
  {
   "cell_type": "code",
   "execution_count": null,
   "id": "3db65210",
   "metadata": {},
   "outputs": [],
   "source": [
    "for i in b:\n",
    "    if i not in c:\n",
    "        print(i)"
   ]
  },
  {
   "cell_type": "markdown",
   "id": "3cd4ce25",
   "metadata": {
    "pycharm": {
     "name": "#%% md\n"
    }
   },
   "source": [
    "## 2. Read the dataframes and concatenate into one big dataframe"
   ]
  },
  {
   "cell_type": "markdown",
   "id": "fe45eb6e",
   "metadata": {
    "pycharm": {
     "name": "#%% md\n"
    }
   },
   "source": [
    "#### 2017&2018"
   ]
  },
  {
   "cell_type": "code",
   "execution_count": null,
   "id": "fbe05cf1",
   "metadata": {
    "pycharm": {
     "name": "#%%\n"
    }
   },
   "outputs": [],
   "source": [
    "df16 = pd.DataFrame()\n",
    "df17 = pd.DataFrame()\n",
    "df18 = pd.DataFrame()\n",
    "df19 = pd.DataFrame()"
   ]
  },
  {
   "cell_type": "code",
   "execution_count": null,
   "id": "81f046db",
   "metadata": {
    "pycharm": {
     "name": "#%%\n"
    }
   },
   "outputs": [],
   "source": [
    "df17 = pd.read_table(\"./data/2017student.csv\", sep=',',header=[0,1]).iloc[:,:234]\n",
    "df18 = pd.read_table(\"./data/2018student.csv\", sep=',',header=[0,1]).iloc[:,:234]"
   ]
  },
  {
   "cell_type": "code",
   "execution_count": null,
   "id": "9a57f23f",
   "metadata": {
    "pycharm": {
     "name": "#%%\n"
    }
   },
   "outputs": [],
   "source": [
    "questions = [None] * len(df17.columns)\n",
    "\n",
    "for i in range(len(questions)):\n",
    "    if 'Unnamed' not in list(df17.columns)[i][0]:\n",
    "        questions[i] = list(df17.columns)[i][0]\n",
    "        \n",
    "mask = np.array([elem is not None for elem in questions])\n",
    "\n",
    "temp = None\n",
    "for i,flag in enumerate(mask):\n",
    "    if flag:\n",
    "        temp = questions[i]\n",
    "    else:\n",
    "        questions[i] = temp\n",
    "\n",
    "for i,q in enumerate(questions):\n",
    "    if '8e' in q:\n",
    "        questions[i] = questions[i].replace('8e','8f')\n",
    "    if '8f' in q:\n",
    "        questions[i] = questions[i].replace('8f','8g')\n",
    "    if '8g' in q:\n",
    "        questions[i] = questions[i].replace('8g','8h')\n",
    "        \n",
    "index_q_a = questions[:3]+  [questions[i][:2] + ': ' + list(df17.columns)[i][1] for i in range(3,len(questions))]"
   ]
  },
  {
   "cell_type": "code",
   "execution_count": null,
   "id": "c1e2dbb9",
   "metadata": {
    "pycharm": {
     "name": "#%%\n"
    }
   },
   "outputs": [],
   "source": [
    "df17.columns = index_q_a\n",
    "df18.columns = index_q_a"
   ]
  },
  {
   "cell_type": "markdown",
   "id": "95fced77",
   "metadata": {
    "pycharm": {
     "name": "#%% md\n"
    }
   },
   "source": [
    "#### 2016"
   ]
  },
  {
   "cell_type": "code",
   "execution_count": null,
   "id": "605fe0ce",
   "metadata": {
    "pycharm": {
     "name": "#%%\n"
    }
   },
   "outputs": [],
   "source": [
    "df16 = pd.read_table(\"./data/2016student.csv\", sep=',',header=[0,1]).iloc[:,:224]\n",
    "q16 = [i[0] for i in list(df16.columns)]\n",
    "mask = np.array(['Unnamed' not in elem for elem in q16])"
   ]
  },
  {
   "cell_type": "code",
   "execution_count": null,
   "id": "daf6e6ab",
   "metadata": {
    "pycharm": {
     "name": "#%%\n"
    }
   },
   "outputs": [],
   "source": [
    "temp = None\n",
    "for i,q in enumerate(q16):\n",
    "    if mask[i]:\n",
    "        temp = q\n",
    "    else:\n",
    "        q16[i] = temp\n",
    "        \n",
    "for i,q in enumerate(q16):\n",
    "    if '8e' in q:\n",
    "        q16[i]='8f'\n",
    "    if '8f' in q:\n",
    "        q16[i]='8g'\n",
    "    if '8g' in q:\n",
    "        q16[i]='8h' \n",
    "        \n",
    "    if '4' in q:\n",
    "        q16[i] = q.replace('4','5')\n",
    "    if '5' in q:\n",
    "        q16[i] = q.replace('5','4')\n",
    "        \n",
    "index_q_a_16 = q16[:3]+  [q16[i][:2] + ': ' + list(df16.columns)[i][1] for i in range(3,len(q16))]\n",
    "df16.columns = index_q_a_16\n",
    "df16 = df16[~df16['DBN'].isnull()]"
   ]
  },
  {
   "cell_type": "markdown",
   "id": "c903ef74",
   "metadata": {
    "pycharm": {
     "name": "#%% md\n"
    }
   },
   "source": [
    "#### 2019"
   ]
  },
  {
   "cell_type": "code",
   "execution_count": null,
   "id": "e233b8ff",
   "metadata": {
    "pycharm": {
     "name": "#%%\n"
    }
   },
   "outputs": [],
   "source": [
    "df19 = pd.read_table(\"./data/2019student.csv\", sep=',',header=[0,1]).iloc[:,:238]\n",
    "q19 = [i[0] for i in list(df19.columns)]\n",
    "mask = np.array(['Unnamed' not in ele for ele in q19])"
   ]
  },
  {
   "cell_type": "code",
   "execution_count": null,
   "id": "7cff8007",
   "metadata": {
    "pycharm": {
     "name": "#%%\n"
    }
   },
   "outputs": [],
   "source": [
    "question_dict = dict()\n",
    "\n",
    "temp = None\n",
    "for i,q in enumerate(q19):\n",
    "    if mask[i]:\n",
    "        if i>=3:\n",
    "            question_dict[q[:2]] = q[4:]\n",
    "        temp = q\n",
    "    else:\n",
    "        q19[i] = temp \n",
    "\n",
    "index_q_a_19 = q19[:3]+  [q19[i][:2] + ': ' + list(df19.columns)[i][1] for i in range(3,len(q19))]\n",
    "df19.columns = index_q_a_19\n"
   ]
  },
  {
   "cell_type": "code",
   "execution_count": null,
   "id": "6b31c3d1",
   "metadata": {
    "pycharm": {
     "name": "#%%\n"
    }
   },
   "outputs": [],
   "source": [
    "question_dict"
   ]
  },
  {
   "cell_type": "markdown",
   "id": "dafff505",
   "metadata": {
    "pycharm": {
     "name": "#%% md\n"
    }
   },
   "source": [
    "#### concatenate with year"
   ]
  },
  {
   "cell_type": "code",
   "execution_count": null,
   "id": "8e7fb204",
   "metadata": {
    "pycharm": {
     "name": "#%%\n"
    }
   },
   "outputs": [],
   "source": [
    "df17['year'] = 2017\n",
    "df18['year'] = 2018\n",
    "df16['year'] = 2016\n",
    "df19['year'] = 2019"
   ]
  },
  {
   "cell_type": "code",
   "execution_count": null,
   "id": "666e3058",
   "metadata": {
    "pycharm": {
     "name": "#%%\n"
    }
   },
   "outputs": [],
   "source": [
    "#df_schools = pd.concat((df16,df17))\n",
    "df_schools = pd.concat((df17,df18))\n",
    "df_schools = pd.concat((df_schools,df19))"
   ]
  },
  {
   "cell_type": "code",
   "execution_count": null,
   "id": "5f7895e3",
   "metadata": {
    "pycharm": {
     "name": "#%%\n"
    }
   },
   "outputs": [],
   "source": [
    "df_schools"
   ]
  },
  {
   "cell_type": "markdown",
   "id": "4f50301f",
   "metadata": {
    "pycharm": {
     "name": "#%% md\n"
    }
   },
   "source": [
    "## 3. Read the school locations and filter only high schools"
   ]
  },
  {
   "cell_type": "code",
   "execution_count": null,
   "id": "00e76cdf",
   "metadata": {
    "pycharm": {
     "name": "#%%\n"
    }
   },
   "outputs": [],
   "source": [
    "df_school_directory = pd.read_table(\"./data/2019_DOE_High_School_Directory.csv\", sep=',')[['dbn','school_name','boro','Borough','Latitude','Longitude']]\n",
    "\n",
    "df_school_directory = df_school_directory.rename(columns={'dbn':'DBN'})\n",
    "df_school_directory.replace(df_school_directory.Borough.unique(), ['Brooklyn', 'Manhattan', 'Queens', 'Bronx', 'Staten Island'], inplace=True)#.groupby('Borough').count()\n",
    "df_high_schools = pd.merge(df_schools,df_school_directory,'right')\n",
    "\n",
    "df_school_directory"
   ]
  },
  {
   "cell_type": "code",
   "execution_count": null,
   "id": "768d1fd2",
   "metadata": {
    "pycharm": {
     "name": "#%%\n"
    }
   },
   "outputs": [],
   "source": [
    "geodata_path = \"NYC.geojson\";\n",
    "with open(geodata_path) as f:\n",
    "    geojson = json.load(f)\n",
    "\n",
    "geojson_Queens = geojson['features'][0]['geometry'];\n",
    "geojson_Brooklyn = geojson['features'][1]['geometry'];\n",
    "geojson_Bronx = geojson['features'][4]['geometry'];\n",
    "geojson_Manhattan = geojson['features'][3]['geometry'];\n",
    "geojson_StatenIsland = geojson['features'][2]['geometry'];\n",
    "\n",
    "geo_dict = {'Borough': ['Queens', 'Brooklyn', 'Bronx', 'Manhattan', 'StatenIsland'],\n",
    "     'geometry': [shape(geojson_Queens), shape(geojson_Brooklyn), shape(geojson_Bronx), shape(geojson_Manhattan),\n",
    "                  shape(geojson_StatenIsland)]};\n",
    "gdf_borough = gpd.GeoDataFrame(geo_dict).set_index(\"Borough\");\n",
    "\n",
    "gdf_borough"
   ]
  },
  {
   "cell_type": "code",
   "execution_count": null,
   "id": "d7e1a604",
   "metadata": {
    "pycharm": {
     "name": "#%%\n"
    }
   },
   "outputs": [],
   "source": [
    "nyc_population_borough = [{ 'Borough':'Queens', 'Population':2405464 }, { 'Borough':'Brooklyn', 'Population':2736074 }, { 'Borough':'Staten Island', 'Population':495747 }, { 'Borough':'Manhattan', 'Population':1694263 }, { 'Borough':'Bronx', 'Population':1472654 }];\n",
    "\n",
    "df_nyc_borough_population = pd.DataFrame(data=nyc_population_borough, columns={'Borough', 'Population'})\\\n",
    "    .set_index(\"Borough\");\n",
    "\n",
    "df_nyc_borough_population = df_nyc_borough_population.squeeze()\n",
    "df_nyc_borough_population"
   ]
  },
  {
   "cell_type": "code",
   "execution_count": null,
   "id": "2ab12a24",
   "metadata": {
    "pycharm": {
     "name": "#%%\n"
    }
   },
   "outputs": [],
   "source": [
    "df_school_per_100k_borough = df_school_directory.value_counts(\"Borough\").div(df_nyc_borough_population).mul(100000)\n",
    "df_school_per_100k_borough\n",
    "# [\"data\"].div(df_nyc_borough_population[\"population\"])"
   ]
  },
  {
   "cell_type": "code",
   "execution_count": null,
   "id": "a69e3940",
   "metadata": {
    "pycharm": {
     "name": "#%%\n"
    }
   },
   "outputs": [],
   "source": [
    "cityhall_lat_lon = [40.7128, -74.0060];\n",
    "map_nyc_school = folium.Map(location=cityhall_lat_lon,\n",
    "                    tiles = \"OpenStreetMap\",\n",
    "                    zoom_start = 11);\n",
    "\n",
    "folium.TileLayer('Stamen Toner').add_to(map_nyc_school)\n",
    "folium.TileLayer('cartodbpositron').add_to(map_nyc_school)\n",
    "\n",
    "### create markers\n",
    "marker_layer = FeatureGroup(name='Markers for high schools')\n",
    "for (index, row) in df_school_directory.iterrows():\n",
    "    marker_layer.add_child(folium.Marker([row[\"Latitude\"], row[\"Longitude\"]], popup=row[\"school_name\"],\n",
    "                  icon=folium.Icon(color='green', prefix='fa', icon='graduation-cap')))\n",
    "\n",
    "map_nyc_school.add_child(marker_layer)\n",
    "\n",
    "### Distributions of high schools in each borough\n",
    "folium.Choropleth(\n",
    "    geo_data=geojson,\n",
    "    name=\"Distributions of high schools in each borough\",\n",
    "    data=df_school_directory.value_counts(\"Borough\"),\n",
    "    columns=[\"Borough\"],\n",
    "    key_on=\"properties.boro_name\",\n",
    "    fill_color=\"YlGn\",\n",
    "    fill_opacity=0.7,\n",
    "    line_opacity=0.2,\n",
    "    legend_name=\"Number of Schools\",\n",
    ").add_to(map_nyc_school)\n",
    "\n",
    "### Distributions of population in each borough\n",
    "folium.Choropleth(\n",
    "    geo_data=geojson,\n",
    "    name=\"Distributions of population in each borough\",\n",
    "    data=df_nyc_borough_population,\n",
    "    columns=[\"Borough\"],\n",
    "    key_on=\"properties.boro_name\",\n",
    "    fill_color=\"Blues\",\n",
    "    fill_opacity=0.7,\n",
    "    line_opacity=0.2,\n",
    "    legend_name=\"Population\",\n",
    "    show=False\n",
    ").add_to(map_nyc_school)\n",
    "\n",
    "### Distributions of school in 100k population in each borough\n",
    "folium.Choropleth(\n",
    "    geo_data=geojson,\n",
    "    name=\"Distributions of school in 100k population in each borough\",\n",
    "    data=df_school_per_100k_borough,\n",
    "    columns=[\"Borough\"],\n",
    "    key_on=\"properties.boro_name\",\n",
    "    fill_color=\"Purples\",\n",
    "    fill_opacity=0.7,\n",
    "    line_opacity=0.2,\n",
    "    legend_name=\"School per 100k people in each borough\",\n",
    "    show=False\n",
    ").add_to(map_nyc_school)\n",
    "\n",
    "### Borough borders Plot\n",
    "folium.features.GeoJson(name=\"Borough borders\", data=geojson,\n",
    "                        style_function=lambda x :{'color': \"white\", \"weight\": 2},\n",
    "                        show=True).add_to(map_nyc_school)\n",
    "\n",
    "folium.LayerControl().add_to(map_nyc_school)\n",
    "\n",
    "map_nyc_school"
   ]
  },
  {
   "cell_type": "code",
   "execution_count": null,
   "id": "10e4f507",
   "metadata": {
    "pycharm": {
     "name": "#%%\n"
    }
   },
   "outputs": [],
   "source": [
    "map_nyc_school.save(\"../fig/part_2_high_school_overview.html\")"
   ]
  },
  {
   "cell_type": "markdown",
   "id": "63114930",
   "metadata": {
    "pycharm": {
     "name": "#%% md\n"
    }
   },
   "source": [
    "### COMMENTS\n",
    "An overview for distributions of high schools and population in NYC with respect to five boroughs. You can play with\n",
    "the layers using the button on the right top corner. With outstanding amount of schools as well as decent population,\n",
    " Bronx and Manhattan make themselves the best boroughs when comes to the number of school per capita in the borough.\n",
    " Things become a little messy in Queens and Brooklyn. Given top population among boroughs, citizens may have to live\n",
    " with the fact that getting education nearby would be challenging due to fair expectations on competition."
   ]
  },
  {
   "cell_type": "code",
   "execution_count": null,
   "id": "4e2530b8",
   "metadata": {
    "pycharm": {
     "name": "#%%\n"
    }
   },
   "outputs": [],
   "source": [
    "def geoplot_answer(map, df) :\n",
    "    folium.TileLayer('Stamen Toner').add_to(map)\n",
    "    is_first = True;\n",
    "\n",
    "    for (col_name, col_data) in df.iteritems():\n",
    "        if (col_name == \"Borough\") :\n",
    "            continue;\n",
    "\n",
    "        folium.Choropleth(\n",
    "            geo_data=geojson,\n",
    "            name=\"Answer distribution for option \" + str(col_name),\n",
    "            data=df,\n",
    "            columns=[\"Borough\", col_name],\n",
    "            key_on=\"properties.boro_name\",\n",
    "            fill_color=\"OrRd\",\n",
    "            fill_opacity=0.7,\n",
    "            line_opacity=0.2,\n",
    "            legend_name=\"Answer rate for option \" + str(col_name),\n",
    "            show=is_first\n",
    "        ).add_to(map)\n",
    "\n",
    "        is_first = False;\n",
    "\n",
    "    folium.features.GeoJson(name=\"Borough borders\", data=geojson,\n",
    "                        style_function=lambda x :{'color': \"white\", \"weight\": 2},\n",
    "                        show=True).add_to(map)\n",
    "\n",
    "    folium.LayerControl().add_to(map)"
   ]
  },
  {
   "cell_type": "markdown",
   "id": "453b0885",
   "metadata": {
    "pycharm": {
     "name": "#%% md\n"
    }
   },
   "source": [
    "### visualize the schools amount"
   ]
  },
  {
   "cell_type": "code",
   "execution_count": null,
   "id": "93828859",
   "metadata": {
    "pycharm": {
     "name": "#%%\n"
    }
   },
   "outputs": [],
   "source": [
    "school_borough = df_school_directory.groupby('Borough').count()['DBN'].to_frame()\n",
    "school_borough"
   ]
  },
  {
   "cell_type": "code",
   "execution_count": null,
   "id": "a928080e",
   "metadata": {
    "pycharm": {
     "name": "#%%\n"
    }
   },
   "outputs": [],
   "source": [
    "plt.figure(figsize=(10, 6), dpi=300)\n",
    "plt.title(\"High School Distribution in Each Borough\", fontsize=16)\n",
    "plt.ylabel(\"Count\")\n",
    "school_borough.plot(kind='bar', ax=plt.gca())\n",
    "\n",
    "plt.savefig('../fig/part_2_high_school_distribution_borough.svg')"
   ]
  },
  {
   "cell_type": "markdown",
   "id": "db0f42f8",
   "metadata": {
    "pycharm": {
     "name": "#%% md\n"
    }
   },
   "source": [
    "## 4. School scoring\n",
    "\n",
    "### 4.1 framework:  six element\n",
    "Rigorous Instruction, \n",
    "Collaborative Teachers, Supportive Environment, Effective School Leadership, \n",
    "Strong Family-Community Ties, and Trust\n",
    "\n",
    "### 4.2 methodology:\n",
    "https://infohub.nyced.org/docs/default-source/default-document-library/framework-school-survey-scoring-technical-guide.pdf\n",
    "\n",
    "The following process is used to generate a survey element score:  \n",
    "(1)  Question-level percent positive (percentage of positive responses to a \n",
    "question)  \n",
    "(2)  Measure-level percent positive (average of the question-level percent \n",
    "positive values for all questions within the measure)   \n",
    "(3)  Measure score (score based on the measure-level percent positive)\n",
    "> scaling method:  \n",
    "    **Rating Category | Percent  Positive (PP) Cut Level**  \n",
    "    4.99 Top of Scoring Range |\n",
    "citywide mean + 2 SD, not to exceed 100  \n",
    "    4.00-4.99 Exceeding Target (4 bars) | \n",
    "citywide mean PP + 0.75 SD, not to exceed 95   \n",
    "    3.00-3.99 Meeting Target (3 bars) |\n",
    "citywide mean PP – 0.5 SD, not to exceed 90  \n",
    "    2.00-2.99 Approaching Target (2 bars) | citywide mean PP – 1 SD, not to exceed 85  \n",
    "    1.00-1.99 Bottom of Scoring Range | citywide mean + 2 SD, not to fall below 0  \n",
    "    \n",
    "(4)  Survey element score (average of measure scores for all measures within \n",
    "the element)\n",
    "\n",
    "\n",
    "\n",
    "### 4.3 choose element:  Supportive Environment\n",
    "\n",
    "- M1 Classroom behavior  \n",
    "q6a q6b q6c q6d q6e\n",
    "- M2 Guidance  \n",
    "q9a q9b q10a q10b q10c q10d q11a q11b  \n",
    "- M3 Peer support for academic work  \n",
    "q6f q6g q6h q6i \n",
    "- M4 Personal attention and support  \n",
    "q3a q3b q3c q3d q3e \n",
    "- M5 Preventing bullying  \n",
    "q8a q8b q8c q8d q8e \n",
    "- M6 Safety  \n",
    "q4h q7a q7b q7c q7d "
   ]
  },
  {
   "cell_type": "markdown",
   "id": "f0a8f877",
   "metadata": {
    "pycharm": {
     "name": "#%% md\n"
    }
   },
   "source": [
    "### 4.4 Average scores through 2017-2019 of each school"
   ]
  },
  {
   "cell_type": "code",
   "execution_count": null,
   "id": "3c391d10",
   "metadata": {
    "pycharm": {
     "name": "#%%\n"
    },
    "scrolled": true
   },
   "outputs": [],
   "source": [
    "scoring_set = {'M1':['6a', '6b', '6c', '6d', '6e'],\n",
    "               'M3':['6f', '6g', '6h', '6i'],\n",
    "               'M4':['3a', '3b', '3c', '3d', '3e'],\n",
    "               'M5':['8a', '8b', '8c', '8d', '8e'],\n",
    "               'M6':['4h', '7a', '7b', '7c', '7d']\n",
    "              }\n",
    "\n",
    "# check the answers\n",
    "for group,qs in scoring_set.items():\n",
    "    print('____________ measure group '+group+' _____________')\n",
    "    for idx in qs:\n",
    "        print(idx+':', question_dict[idx])\n",
    "        print([s for s in np.array(df_high_schools.columns, dtype=str) if idx in s],'\\n')"
   ]
  },
  {
   "cell_type": "code",
   "execution_count": null,
   "id": "6154632e",
   "metadata": {
    "pycharm": {
     "name": "#%%\n"
    }
   },
   "outputs": [],
   "source": [
    "# calculate each schools positive rate of each question and the avg of each measure\n",
    "for group,measure in scoring_set.items():\n",
    "    for idx in measure:\n",
    "        if ('3' in idx) or ('6' in idx) or ('4' in idx) or ('7' in idx): \n",
    "            df_answers = df_high_schools[[s for s in np.array(df_high_schools.columns, dtype=str) if idx in s]]\n",
    "            df_high_schools[idx+'_pos'] = df_answers.iloc[:,-2:].sum(axis = 1)/df_answers.sum(axis = 1) \n",
    "        if '8' in idx:\n",
    "            df_answers = df_high_schools[[s for s in np.array(df_high_schools.columns, dtype=str) if idx in s]]\n",
    "            df_high_schools[idx+'_pos'] = df_answers.iloc[:,:2].sum(axis = 1)/df_answers.sum(axis = 1) \n",
    "        \n",
    "    df_high_schools[group+'_avg'] = df_high_schools[[idx + '_pos'for idx in measure]].mean(axis = 1)\n",
    "            "
   ]
  },
  {
   "cell_type": "code",
   "execution_count": null,
   "id": "6724eb27",
   "metadata": {
    "pycharm": {
     "name": "#%%\n"
    },
    "scrolled": true
   },
   "outputs": [],
   "source": [
    "# draw the distribution of average positive rate of each measure\n",
    "plt.figure(figsize=(10, 6), dpi=300)\n",
    "plt.boxplot([df_high_schools[i + '_avg'].dropna().values for i in list(scoring_set.keys())])"
   ]
  },
  {
   "cell_type": "code",
   "execution_count": null,
   "id": "2d7a25ba",
   "metadata": {
    "pycharm": {
     "name": "#%%\n"
    },
    "scrolled": true
   },
   "outputs": [],
   "source": [
    "# scale to scores\n",
    "for group, measure in scoring_set.items():\n",
    "    \n",
    "    col = group + '_score'\n",
    "    # print(col)\n",
    "    df_high_schools[col] = np.nan\n",
    "    \n",
    "    mean = df_high_schools[group + '_avg'].dropna().mean()\n",
    "    std =  df_high_schools[group + '_avg'].dropna().std()\n",
    "    \n",
    "    bar5 = min(mean + 2*std, 1)\n",
    "    bar4 = min(mean + 0.75*std, 0.95)\n",
    "    bar3 = min(mean - 0.5*std, 0.90)\n",
    "    bar2 = min(mean - std, 0.85)\n",
    "    bar1 = min(mean - 2*std, 0)\n",
    "    \n",
    "    df_high_schools.loc[df_high_schools[group + '_avg'] > bar5, col] = 4.99\n",
    "    df_high_schools.loc[df_high_schools[group + '_avg'] < bar5, col] = 1.00\n",
    "    \n",
    "    mask = (df_high_schools[group + '_avg'] < bar5) & (df_high_schools[group + '_avg'] > bar4)\n",
    "    sub_4 = df_high_schools[mask]\n",
    "    df_high_schools.loc[mask,col] = 4 + (sub_4[group + '_avg']-bar4)/(bar5-bar4)\n",
    "    \n",
    "    mask = (df_high_schools[group + '_avg'] < bar4) & (df_high_schools[group + '_avg'] > bar3)\n",
    "    sub_3 = df_high_schools[mask]\n",
    "    df_high_schools.loc[mask,col] = 3 + (sub_3[group + '_avg']-bar3)/(bar4-bar3)\n",
    "\n",
    "    \n",
    "    mask = (df_high_schools[group + '_avg'] < bar3) & (df_high_schools[group + '_avg'] > bar2)\n",
    "    sub_2 = df_high_schools[mask]\n",
    "    df_high_schools.loc[mask,col] = 2 + (sub_2[group + '_avg']-bar2)/(bar3-bar2)\n",
    "\n",
    "    \n",
    "    mask = (df_high_schools[group + '_avg'] < bar2) & (df_high_schools[group + '_avg'] > bar1)\n",
    "    sub_1 = df_high_schools[mask]\n",
    "    df_high_schools.loc[mask,col] = 1 + (sub_1[group + '_avg']-bar1)/(bar2-bar1)\n"
   ]
  },
  {
   "cell_type": "code",
   "execution_count": null,
   "id": "a38fa853",
   "metadata": {
    "pycharm": {
     "name": "#%%\n"
    }
   },
   "outputs": [],
   "source": [
    "# average score of \"supportive environment\"\n",
    "df_high_schools['element_score'] = df_high_schools[['M1_score','M3_score','M4_score','M5_score','M6_score']].mean(axis=1)"
   ]
  },
  {
   "cell_type": "code",
   "execution_count": null,
   "id": "846f3656",
   "metadata": {
    "pycharm": {
     "name": "#%%\n"
    }
   },
   "outputs": [],
   "source": [
    "# visualize the element scores of each borough\n",
    "score_boroughs = []\n",
    "boroughs = boroughs_name\n",
    "for b in boroughs_name:\n",
    "    score_boroughs.append(df_high_schools[df_high_schools['Borough']==b]['element_score'].dropna())\n",
    "\n",
    "\n",
    "plt.figure(figsize=(10, 6), dpi=300)\n",
    "fig = plt.boxplot(score_boroughs,labels=boroughs_name)"
   ]
  },
  {
   "cell_type": "code",
   "execution_count": null,
   "id": "5e425a36",
   "metadata": {
    "pycharm": {
     "name": "#%%\n"
    }
   },
   "outputs": [],
   "source": [
    "row_num = 3;\n",
    "col_num = 2;\n",
    "\n",
    "fig, axes = plt.subplots(row_num, col_num, figsize=(10, 6), sharey=True, constrained_layout=True, dpi=300)\n",
    "fig.suptitle('Number of votes for each option in supportive environment', fontsize=16)\n",
    "\n",
    "for (idx, b) in enumerate(boroughs_name):\n",
    "    # plt.figure()\n",
    "    # plt.title(b)\n",
    "    ax = axes[idx//col_num, idx%col_num];\n",
    "    sns.histplot(ax=ax, data=df_high_schools[df_high_schools['Borough']==b].element_score);\n",
    "    ax.set_title(b, loc=\"left\");\n",
    "\n",
    "axes[row_num-1, col_num-1].remove();\n",
    "fig.savefig('../fig/part_2_score_on_items.svg')"
   ]
  },
  {
   "cell_type": "markdown",
   "id": "3bc1f3de",
   "metadata": {
    "pycharm": {
     "name": "#%% md\n"
    }
   },
   "source": [
    "### 4.5 yearly changes"
   ]
  },
  {
   "cell_type": "code",
   "execution_count": null,
   "id": "66bb27e2",
   "metadata": {
    "pycharm": {
     "name": "#%%\n"
    }
   },
   "outputs": [],
   "source": [
    "year_score_boroughs = dict()\n",
    "for y in [2017, 2018, 2019]:\n",
    "    year_score_boroughs[y] = []\n",
    "    df_year = df_high_schools[df_high_schools['year']==y]\n",
    "    for b in boroughs:\n",
    "        year_score_boroughs[y].append(df_year[df_year['Borough']==b]['element_score'].dropna())   "
   ]
  },
  {
   "cell_type": "code",
   "execution_count": null,
   "id": "d35da163",
   "metadata": {
    "pycharm": {
     "name": "#%%\n"
    }
   },
   "outputs": [],
   "source": [
    "year_score_boroughs_avg = pd.DataFrame(columns=boroughs,index=[2017,2018,2019])\n",
    "for y in [2017, 2018, 2019]:\n",
    "    df_year = df_high_schools[df_high_schools['year']==y]\n",
    "    for b in boroughs:\n",
    "        year_score_boroughs_avg.loc[y,b] = df_year[df_year['Borough']==b]['element_score'].dropna().mean()"
   ]
  },
  {
   "cell_type": "code",
   "execution_count": null,
   "id": "799488d0",
   "metadata": {
    "pycharm": {
     "name": "#%%\n"
    }
   },
   "outputs": [],
   "source": [
    "year_score_boroughs_avg"
   ]
  },
  {
   "cell_type": "code",
   "execution_count": null,
   "id": "898863ab",
   "metadata": {
    "pycharm": {
     "name": "#%%\n"
    }
   },
   "outputs": [],
   "source": [
    "def geoplot_time_series(map, df, colors, title) :\n",
    "    # folium.TileLayer('openstreetmap').add_to(map);\n",
    "    # folium.TileLayer('Stamen Toner').add_to(map);\n",
    "\n",
    "    # colorscale = branca.colormap.linear.YlGnBu_09.scale(0, 30);\n",
    "    df = df.set_index(\"Borough\");\n",
    "\n",
    "    max_color = df.to_numpy().max();\n",
    "    min_color = df.to_numpy().min();\n",
    "    cmap = colors.scale(min_color, max_color);\n",
    "\n",
    "    df = df.reset_index();\n",
    "\n",
    "    df_color = df.copy()\n",
    "    for (col_name, col_data) in df.iteritems():\n",
    "            if (col_name == \"Borough\") :\n",
    "                continue;\n",
    "\n",
    "            df_color[col_name] = df[col_name].map(cmap)\n",
    "\n",
    "    style_dict = {};\n",
    "\n",
    "    for (_, row) in df_color.iterrows():\n",
    "        inner_dict = {};\n",
    "\n",
    "        for (col_name, col_data) in row.iteritems():\n",
    "            if (col_name == \"Borough\") :\n",
    "                continue;\n",
    "\n",
    "            inner_dict[\n",
    "                (int)((datetime.datetime(year=int(col_name), month=1,day=1)).timestamp())] = \\\n",
    "                                { 'color': row[int(col_name)], 'opacity': 0.7 };\n",
    "\n",
    "        style_dict[row[\"Borough\"].replace(' ', '')] = inner_dict;\n",
    "\n",
    "    print(gdf_borough)\n",
    "    print(style_dict)\n",
    "    map.add_child(\n",
    "        TimeSliderChoropleth(\n",
    "            data=gdf_borough.to_json(), styledict=style_dict, overlay=True\n",
    "        )\n",
    "    );\n",
    "\n",
    "    _ = cmap.add_to(map);\n",
    "    cmap.caption = title;\n"
   ]
  },
  {
   "cell_type": "code",
   "execution_count": null,
   "id": "da65981f",
   "metadata": {
    "pycharm": {
     "name": "#%%\n"
    }
   },
   "outputs": [],
   "source": [
    "cityhall_lat_lon = [40.7128, -74.0060];\n",
    "map = folium.Map(location=cityhall_lat_lon,\n",
    "                    tiles = \"openstreetmap\",\n",
    "                    zoom_start = 11);\n",
    "\n",
    "df = year_score_boroughs_avg.transpose().reset_index().rename(columns={\"index\": \"Borough\"});\n",
    "\n",
    "colors = branca.colormap.linear.YlGnBu_09;\n",
    "title = \"Yearly change of school score\"\n",
    "geoplot_time_series(map, df, colors, title);\n",
    "map"
   ]
  },
  {
   "cell_type": "code",
   "execution_count": null,
   "id": "e775f335",
   "metadata": {
    "pycharm": {
     "name": "#%%\n"
    }
   },
   "outputs": [],
   "source": [
    "map.save(\"../fig/part_2_school_score_yearly_change.html\")"
   ]
  },
  {
   "cell_type": "code",
   "execution_count": null,
   "id": "b49a815d",
   "metadata": {
    "pycharm": {
     "name": "#%%\n"
    }
   },
   "outputs": [],
   "source": [
    "row_num = 2;\n",
    "col_num = 2;\n",
    "\n",
    "fig, axes = plt.subplots(row_num, col_num, figsize=(10, 6), sharey=True, constrained_layout=True, dpi=300)\n",
    "fig.suptitle('Initial Pokemon - 1st Generation')\n",
    "\n",
    "for (idx, y) in enumerate([2017, 2018, 2019]):\n",
    "    ax = axes[idx//col_num, idx%col_num];\n",
    "    ax.boxplot(x=year_score_boroughs[y], labels=boroughs)\n",
    "\n",
    "axes[row_num-1, col_num-1].remove();"
   ]
  },
  {
   "cell_type": "markdown",
   "id": "76364627",
   "metadata": {
    "pycharm": {
     "name": "#%% md\n"
    }
   },
   "source": [
    "## 5. Comprehensive analysis with tobacco retailers \n",
    "### 5.1 import the retailers"
   ]
  },
  {
   "cell_type": "code",
   "execution_count": null,
   "id": "56e24f8e",
   "metadata": {
    "pycharm": {
     "name": "#%%\n"
    }
   },
   "outputs": [],
   "source": [
    "tobacco_retailers = pd.read_table('./data/Active_Tobacco_Retail_Dealer_Licenses.csv',sep=',')\n",
    "tobacco_retailers['License Creation Date'] = pd.to_datetime(tobacco_retailers['License Creation Date'])\n",
    "tobacco_retailers = tobacco_retailers[tobacco_retailers['License Creation Date'].dt.year<2021]\n",
    "tobacco_retailers = tobacco_retailers[['DCA License Number','Address Borough','Borough Code','Longitude','Latitude','Location']]\n",
    "\n",
    "print(len(tobacco_retailers))\n",
    "print(tobacco_retailers['Address Borough'].unique())"
   ]
  },
  {
   "cell_type": "code",
   "execution_count": null,
   "id": "12a94e9b",
   "metadata": {
    "pycharm": {
     "name": "#%%\n"
    }
   },
   "outputs": [],
   "source": [
    "tobacco_retailers.loc[tobacco_retailers['Borough Code']==1, 'Address Borough'] = 'Manhattan'\n",
    "tobacco_retailers.loc[tobacco_retailers['Borough Code']==4, 'Address Borough'] = 'Queens'\n",
    "\n",
    "tobacco_retailers = tobacco_retailers.reset_index().drop(columns=['index'])\n",
    "tobacco_retailers"
   ]
  },
  {
   "cell_type": "code",
   "execution_count": null,
   "id": "66abfdf1",
   "metadata": {
    "pycharm": {
     "name": "#%%\n"
    }
   },
   "outputs": [],
   "source": [
    "tobacco_retailers_count = tobacco_retailers.groupby('Address Borough').count()\n",
    "tobacco_retailers_count"
   ]
  },
  {
   "cell_type": "code",
   "execution_count": null,
   "id": "3d861d7a",
   "metadata": {
    "pycharm": {
     "name": "#%%\n"
    }
   },
   "outputs": [],
   "source": [
    "plt.figure(figsize=(10, 6), dpi=300)\n",
    "plt.title(\"Registered Tobacco Retailer Distribution in Each Borough\", fontsize=16)\n",
    "plt.ylabel(\"Count\")\n",
    "tobacco_retailers_count.plot(kind='bar', ax=plt.gca(), y=\"DCA License Number\")\n",
    "\n",
    "plt.savefig('../fig/part_2_retailer_distribution_borough.svg')"
   ]
  },
  {
   "cell_type": "code",
   "execution_count": null,
   "id": "8d09e666",
   "metadata": {
    "pycharm": {
     "name": "#%%\n"
    }
   },
   "outputs": [],
   "source": [
    "tobacco_retailers_count_per_capita_100k = tobacco_retailers_count['DCA License Number'].div\\\n",
    "    (df_nyc_borough_population).mul(100000);\n",
    "tobacco_retailers_count_per_capita_100k"
   ]
  },
  {
   "cell_type": "code",
   "execution_count": null,
   "id": "a058e75e",
   "metadata": {
    "pycharm": {
     "name": "#%%\n"
    }
   },
   "outputs": [],
   "source": [
    "cityhall_lat_lon = [40.7128, -74.0060];\n",
    "map_nyc_retail = folium.Map(location=cityhall_lat_lon,\n",
    "                    tiles = \"openstreetmap\",\n",
    "                    zoom_start = 11);\n",
    "\n",
    "folium.TileLayer('Stamen Toner').add_to(map_nyc_retail)\n",
    "folium.TileLayer('cartodbpositron').add_to(map_nyc_retail)\n",
    "\n",
    "### Distributions of retailers in each borough\n",
    "folium.Choropleth(\n",
    "    geo_data=geojson,\n",
    "    name=\"Distributions of retailers in each borough\",\n",
    "    data=tobacco_retailers_count.reset_index(),\n",
    "    columns=[\"Address Borough\", \"DCA License Number\"],\n",
    "    key_on=\"properties.boro_name\",\n",
    "    fill_color=\"Reds\",\n",
    "    fill_opacity=0.7,\n",
    "    line_opacity=0.2,\n",
    "    legend_name=\"Number of Retailers\",\n",
    "    show=False\n",
    ").add_to(map_nyc_retail)\n",
    "\n",
    "### Distributions of retailers in 100k population in each borough\n",
    "folium.Choropleth(\n",
    "    geo_data=geojson,\n",
    "    name=\"Distributions of retailers in 100k population in each borough\",\n",
    "    data=tobacco_retailers_count_per_capita_100k,\n",
    "    columns=[0],\n",
    "    key_on=\"properties.boro_name\",\n",
    "    fill_color=\"BuPu\",\n",
    "    fill_opacity=0.7,\n",
    "    line_opacity=0.2,\n",
    "    legend_name=\"Retailer per 100k people in each borough\",\n",
    "    show=False\n",
    ").add_to(map_nyc_retail)\n",
    "\n",
    "### heatmap of retailers\n",
    "HeatMap(([row['Latitude'], row['Longitude']] for (idx, row) in tobacco_retailers.iterrows() if\n",
    "         (not pd.isnull(row['Latitude'])) & (not pd.isnull(row['Longitude']))),\n",
    "        radius=10, blur=10, name=\"Heatmap of retailers\").add_to(map_nyc_retail);\n",
    "\n",
    "### Borough borders Plot\n",
    "folium.features.GeoJson(name=\"Borough borders\", data=geojson,\n",
    "                        style_function=lambda x :{'color': \"white\", \"weight\": 2},\n",
    "                        show=True).add_to(map_nyc_retail)\n",
    "\n",
    "folium.LayerControl().add_to(map_nyc_retail)\n",
    "\n",
    "map_nyc_retail"
   ]
  },
  {
   "cell_type": "code",
   "execution_count": null,
   "id": "db41fa20",
   "metadata": {
    "pycharm": {
     "name": "#%%\n"
    }
   },
   "outputs": [],
   "source": [
    "map_nyc_retail.save(\"../fig/part_2_retailer_overview.html\")"
   ]
  },
  {
   "cell_type": "markdown",
   "id": "553991ee",
   "metadata": {
    "pycharm": {
     "name": "#%% md\n"
    }
   },
   "source": [
    "### COMMENTS\n",
    "When comes to number of retailers, it is not surprised that NYC has a huge amount of tobacco retailers in total. You\n",
    "can click the button on top-right of the map for different information related to retailers. By default, you will be\n",
    "looking at the heatmap describing the retailer distribution.\n",
    "Given the knowledge that Manhattan ranks as the most famous and recognizable borough in NYC with Wall Street lies on,\n",
    " this borough enjoys the most intense distribution of legal tobacco retailers, seen from both heatmap and per 100k\n",
    " capita plot. Bronx, with the highest crime rate in NYC, keeps its population mild, hence a rather lower density for\n",
    " retailers in this borough than you might expect. This phenomenon also shows less relation between the crime rate\n",
    " with legal tobacco retailer density."
   ]
  },
  {
   "cell_type": "markdown",
   "id": "c794c369",
   "metadata": {
    "pycharm": {
     "name": "#%% md\n"
    }
   },
   "source": [
    "### 5.2 retailer:school ratio"
   ]
  },
  {
   "cell_type": "code",
   "execution_count": null,
   "id": "d1ddcb7a",
   "metadata": {
    "pycharm": {
     "name": "#%%\n"
    }
   },
   "outputs": [],
   "source": [
    "retailer_density = pd.DataFrame(index=tobacco_retailers_count.index,columns=['retailer:school ratio'])\n",
    "for i in range(5):\n",
    "    retailer_density.iloc[i,0] = tobacco_retailers_count.iloc[i,0]/school_borough.iloc[i,0]\n",
    "retailer_density"
   ]
  },
  {
   "cell_type": "markdown",
   "id": "749fa083",
   "metadata": {
    "pycharm": {
     "name": "#%% md\n"
    }
   },
   "source": [
    "### 5.3 distance to retailers: \n",
    "- for each shool find 5 nearest retailers\n",
    "- calculate the average distance?\n",
    "- (optional:tag the retailers that are shared the most between schools)"
   ]
  },
  {
   "cell_type": "code",
   "execution_count": null,
   "id": "746f91f0",
   "metadata": {
    "pycharm": {
     "name": "#%%\n"
    }
   },
   "outputs": [],
   "source": [
    "from ast import literal_eval\n",
    "tobacco_retailers.loc[:,'Location'] = tobacco_retailers.Location.dropna().apply(lambda x: literal_eval(str(x)))\n",
    "#df_school_directory"
   ]
  },
  {
   "cell_type": "code",
   "execution_count": null,
   "id": "f7d1153e",
   "metadata": {
    "pycharm": {
     "name": "#%%\n"
    }
   },
   "outputs": [],
   "source": [
    "#df_school_directory['Borough'].replace(df_school_directory.Borough.unique(),retailer_density.index, inplace=True)\n",
    "\n",
    "df_school_directory['nearest retailers idx'] = -1\n",
    "df_school_directory['nearest retailers idx']  = df_school_directory['nearest retailers idx'].astype(object)\n",
    "df_school_directory['nearest retailers distance']= -1\n",
    "df_school_directory['nearest retailers distance']  = df_school_directory['nearest retailers distance'].astype(object)\n",
    "\n",
    "df_school_directory['mean distance'] = -1"
   ]
  },
  {
   "cell_type": "code",
   "execution_count": null,
   "id": "9eafb133",
   "metadata": {
    "pycharm": {
     "name": "#%%\n"
    }
   },
   "outputs": [],
   "source": [
    "# find the nearest retailers of each school\n",
    "boroughs = df_school_directory.Borough.unique()\n",
    "\n",
    "school_borough_dict = dict()\n",
    "\n",
    "distance = []\n",
    "nearest_retailers = []\n",
    "\n",
    "for b in boroughs:\n",
    "    \n",
    "    school_in_borough = df_school_directory[df_school_directory.Borough==b]\n",
    "    school_in_borough_index = school_in_borough.index\n",
    "    tobacco_retailers = tobacco_retailers.dropna(subset = ['Location'])#tobacco_retailers[tobacco_retailers['Address Borough']==b].dropna(subset = ['Location'])\n",
    "    \n",
    "    for i in range(len(school_in_borough)):\n",
    "        school_idx = school_in_borough_index[i]\n",
    "        school_coordinates = (school_in_borough.iloc[i].Latitude, school_in_borough.iloc[i].Longitude)\n",
    "        # print(school_coordinates)\n",
    "        tobacco_retailers['distance'] = tobacco_retailers.Location.apply(\n",
    "             lambda x: great_circle(school_coordinates, x).km)\n",
    "        \n",
    "        nearest_retailers = tobacco_retailers.sort_values('distance').iloc[:5]\n",
    "        df_school_directory['nearest retailers idx'].iloc[school_idx] = np.array(nearest_retailers.index)\n",
    "        df_school_directory['nearest retailers distance'].iloc[school_idx] = nearest_retailers.distance.values\n",
    "        df_school_directory['mean distance'].iloc[school_idx] = nearest_retailers.distance.values.mean()"
   ]
  },
  {
   "cell_type": "code",
   "execution_count": null,
   "id": "385322be",
   "metadata": {
    "pycharm": {
     "name": "#%%\n"
    }
   },
   "outputs": [],
   "source": [
    "df_school_directory"
   ]
  },
  {
   "cell_type": "code",
   "execution_count": null,
   "id": "49879733",
   "metadata": {
    "pycharm": {
     "name": "#%%\n"
    }
   },
   "outputs": [],
   "source": [
    "cityhall_lat_lon = [40.7128, -74.0060];\n",
    "map_nyc_retail_school = folium.Map(location=cityhall_lat_lon,\n",
    "                    zoom_start = 11);\n",
    "\n",
    "folium.TileLayer('Stamen Toner').add_to(map_nyc_retail_school)\n",
    "folium.TileLayer('cartodbpositron').add_to(map_nyc_retail_school)\n",
    "\n",
    "### create markers for schools\n",
    "marker_layer_school = FeatureGroup(name='Markers for high schools', show=False)\n",
    "for (index, row) in df_school_directory.iterrows():\n",
    "    marker_layer_school.add_child(folium.Marker([row[\"Latitude\"], row[\"Longitude\"]], popup=row[\"school_name\"],\n",
    "                  icon=folium.Icon(color='green', prefix='fa', icon='graduation-cap')))\n",
    "\n",
    "map_nyc_retail_school.add_child(marker_layer_school)\n",
    "\n",
    "### heatmap of retailers\n",
    "HeatMap(([row['Latitude'], row['Longitude']] for (idx, row) in tobacco_retailers.iterrows() if\n",
    "         (not pd.isnull(row['Latitude'])) & (not pd.isnull(row['Longitude']))),\n",
    "        radius=10, blur=10, name=\"Heatmap of retailers\", show=False).add_to(map_nyc_retail_school);\n",
    "\n",
    "### Distributions of ratio between number of retailer and high school in each borough\n",
    "folium.Choropleth(\n",
    "    geo_data=geojson,\n",
    "    name=\"Distributions of ratio between number of retailer and high school in each borough\",\n",
    "    data=retailer_density.squeeze(),\n",
    "    columns=[\"Address Borough\"],\n",
    "    key_on=\"properties.boro_name\",\n",
    "    fill_color=\"YlOrBr\",\n",
    "    fill_opacity=0.7,\n",
    "    line_opacity=0.2,\n",
    "    legend_name=\"Ratio between number of retailer and high school\",\n",
    "    show=True\n",
    ").add_to(map_nyc_retail_school)\n",
    "\n",
    "### Marker layer for high school-to-retailer mean distance\n",
    "marker_layer_dist = FeatureGroup(name='Markers for high school-to-retailer mean distance')\n",
    "for (index, row) in df_school_directory.iterrows():\n",
    "    marker_layer_dist.add_child(folium.Circle(location=[row[\"Latitude\"], row[\"Longitude\"]],\n",
    "                                                    radius=row['mean distance']*1000,\n",
    "                                                    popup=str(row[\"school_name\"])+\", mean distance = \"+\n",
    "                                                          str(round(row['mean distance']*1000))+\"m\",\n",
    "                                                    color='#636363',\n",
    "                                                    fill=True,\n",
    "                                                    fill_color='#636363',\n",
    "                                                    weight='2'));\n",
    "\n",
    "map_nyc_retail_school.add_child(marker_layer_dist)\n",
    "\n",
    "### Borough borders Plot\n",
    "folium.features.GeoJson(name=\"Borough borders\", data=geojson,\n",
    "                        style_function=lambda x :{'color': \"white\", \"weight\": 2},\n",
    "                        show=True).add_to(map_nyc_retail_school)\n",
    "\n",
    "folium.LayerControl().add_to(map_nyc_retail_school)\n",
    "\n",
    "map_nyc_retail_school"
   ]
  },
  {
   "cell_type": "code",
   "execution_count": null,
   "id": "beebfffa",
   "metadata": {
    "pycharm": {
     "name": "#%%\n"
    }
   },
   "outputs": [],
   "source": [
    "map_nyc_retail_school.save(\"../fig/part_2_school_vs_retailer.html\")"
   ]
  },
  {
   "cell_type": "code",
   "execution_count": null,
   "id": "4d9f1cb5",
   "metadata": {
    "pycharm": {
     "name": "#%%\n"
    }
   },
   "outputs": [],
   "source": [
    "df = year_score_boroughs_avg.transpose().reset_index().rename(columns={\"index\": \"Borough\"});\n",
    "df"
   ]
  },
  {
   "cell_type": "markdown",
   "id": "19700446",
   "metadata": {
    "pycharm": {
     "name": "#%%\n"
    }
   },
   "source": [
    "### COMMENTS\n",
    "As usual, top-right button on the map offers you more options to review. By default, you are viewing the ratio\n",
    "between retailers and high school in each borough, and the mean distance from each high school to its nearest five\n",
    "retailers, shown by the radius of each circle.\n",
    "Interestingly, inverse relation is told by the geo-information. Roughly scanning the map, you would find that high\n",
    "schools on Staten Island shares a large mean distance to its nearest retailers, while the retailer/school ratio is\n",
    "highest among all the boroughs; you can also check the counter-intuitive phenomenon in Manhattan and Bronx, where the\n",
    " mean distances are kept short with low retailer/school ratios.\n",
    "We can dive into the phenomenon from another perspective. Please switch the map to markers of high schools and\n",
    "heatmap for retailers by clicking top-right button on the map and ticking these two layers. On Staten Island, things\n",
    "could attribute to the uneven and unmatched distribution between school and retailers. Most of the retailers, seen from\n",
    "heatmap, are located in the north, while some high schools locate themselves away from north, in the middle or even\n",
    "south of the island. As for Manhattan, though with a lower retail/school ratio, the distribution patterns for them\n",
    "are geographically similar, resulting in a much smaller mean distance from schools to retailers.\n",
    "Both mean distance to retailers and retail/school ratio cannot be solid criteria for school scoring, since the\n",
    "calculation does not involve the relationship between schools and legal tobacco retailers. However, out of reasonable\n",
    " suspect, we will go deeper into the problem in the next section using machine learning model via random forest\n",
    " algorithm."
   ]
  },
  {
   "cell_type": "code",
   "execution_count": null,
   "id": "3fb4fd3c",
   "metadata": {},
   "outputs": [],
   "source": [
    "# for b in boroughs:\n",
    "#     sub = df_school_directory[df_school_directory['Borough']==b]\n",
    "#     plt.figure()\n",
    "#     plt.title(b)\n",
    "#     sns.histplot(sub['mean distance'])\n",
    "\n",
    "row_num = 3;\n",
    "col_num = 2;\n",
    "\n",
    "fig, axes = plt.subplots(row_num, col_num, figsize=(10, 6), sharey=True, constrained_layout=True, dpi=300)\n",
    "fig.suptitle('Mean distance from school to its closet five retailers', fontsize=16)\n",
    "\n",
    "for (idx, b) in enumerate(boroughs_name):\n",
    "    sub = df_school_directory[df_school_directory['Borough']==b]\n",
    "\n",
    "    ax = axes[idx//col_num, idx%col_num];\n",
    "    sns.histplot(ax=ax, data=sub['mean distance']);\n",
    "    ax.set_title(b, loc=\"left\");\n",
    "\n",
    "axes[row_num-1, col_num-1].remove();\n",
    "fig.savefig(\"../fig/part_2_mean_dist_bar.svg\")"
   ]
  },
  {
   "cell_type": "code",
   "execution_count": null,
   "id": "bfb2be9e",
   "metadata": {},
   "outputs": [],
   "source": [
    "row_num = 1;\n",
    "col_num = 2;\n",
    "fig, axes = plt.subplots(row_num, col_num, figsize=(10, 6), constrained_layout=True, dpi=300)\n",
    "\n",
    "mean_dist=[]\n",
    "for (idx, b) in enumerate(boroughs_name):\n",
    "    sub = df_school_directory[df_school_directory['Borough']==b];\n",
    "    mean_dist.append(sub['mean distance'].values);\n",
    "\n",
    "    ax = axes[1];\n",
    "    sns.kdeplot(sub['mean distance'].values, ax=ax, shade=None, label=b, cut=0)\n",
    "    ax.legend();\n",
    "\n",
    "### box plot\n",
    "ax = axes[0];\n",
    "ax.boxplot(mean_dist, labels=boroughs_name);\n",
    "ax.set_ylabel(\"mean distance\");\n",
    "ax.set_title(\"box plot\");\n",
    "\n",
    "### kde plot\n",
    "ax = axes[1];\n",
    "# sns.kdeplot(mean_dist, ax=ax, shade=None)\n",
    "ax.set_xlabel(\"mean distance\");\n",
    "ax.set_title(\"kde plot\");\n",
    "fig.savefig(\"../fig/part_2_mean_dist_box_kde.svg\")"
   ]
  },
  {
   "cell_type": "markdown",
   "id": "1d6ca11c",
   "metadata": {},
   "source": [
    "# Machine Learning"
   ]
  },
  {
   "cell_type": "markdown",
   "id": "82a18053",
   "metadata": {},
   "source": [
    "### 1. Task discription  \n",
    "Idealy we shall plot hotzones of early smoking, in terms of any individul student's own risk behaviors and the environment based on his school (the school's supportive score and the distance to retailers), since youth smoking is an issue calling on efforts from multiple parties. The cautionary results would suggest special measures for the hotzones' authorities, such as goverment's education branches, tobacco braches and each community's own administrators to regulate the smoking behaviors among teenagers. In a more broad way, the results would be useful for any city management plan in the goal of youth tobbaco control, and furthermore the city's sustainability.\n",
    "\n",
    "However, given the limited dataset and resources we can get, we are not able to distinguish the risk behavior levels down to each school, since the smallest geographical unit of YRBSS data is a whole district. Thus this project focuses on anylyzing how all kinds of individual behaviors and social environmental factors influence the smoking acquisition in a machine learning way, without geo-mapping.\n",
    "\n",
    "All the following procedures will show what and how the dataset for training was constructed according to previous analysis, so that we can combine risk behaviors, school scoring and school-to-retailer distances to predict whether a student's would start smoking very early."
   ]
  },
  {
   "cell_type": "markdown",
   "id": "0b176e7e",
   "metadata": {},
   "source": [
    "### 2. Preprocessing\n",
    "#### 2.1 roughly filter YRBSS dataset\n",
    "- The chosen target is the *age of start smoking* `q31` in 2019, so we only choose rows with **valid target `q31` value** of 2019\n",
    "- check the answers from YRBSS, and exclude question attributes with **response rate** less than 70%\n",
    "\n",
    "\n",
    "#### 2.2 encoding the features\n",
    "- We stratify the target value to 3 categories: non-smokers (with q31 = 1.0, those who don't smoke), youger started smokers(q31 = 2.0, 3.0 or 4.0, those who first smoke before 13 years old), and older started (q31 = 5.0, 6.0 or 7.0, those who first smoke after 13 years old)\n",
    "- `sitecode` is a nominal feature, to feed this feature into the model we have to transform it into numbers. Integers 0 to 4 respectively corresponds to `['NYG' 'NYH' 'NYI' 'NYJ' 'NYK']`\n"
   ]
  },
  {
   "cell_type": "code",
   "execution_count": null,
   "id": "8b08cf50",
   "metadata": {
    "scrolled": true
   },
   "outputs": [],
   "source": [
    "all_questions = [q for q in df_boroughs5.columns if 'q' in q] \n",
    "\n",
    "# find the questions included in 2019's survey\n",
    "attr19_null = []\n",
    "for question in all_questions:\n",
    "    if pd.notnull(df_boroughs5[df_boroughs5['year']==2019][question]).sum() < 0.7*len(df_boroughs5[df_boroughs5['year']==2019]):\n",
    "        attr19_null.append(question)   \n",
    "    print(question,y, pd.notnull(df_boroughs5[df_boroughs5['year']==2019][question]).sum())"
   ]
  },
  {
   "cell_type": "code",
   "execution_count": null,
   "id": "73a2e8dd",
   "metadata": {},
   "outputs": [],
   "source": [
    "### store the dataset for machine learnning as `df`\n",
    "df = df_boroughs5.loc[df_boroughs5[df_boroughs5['year']==2019]['q31'].dropna().index].drop(columns=attr19_null)\n",
    "df['q31'].replace([2.0,3.0,4.0],[2.0,2.0,2.0],inplace=True)\n",
    "df['q31'].replace([5.0,6.0,7.0],[3.0,3.0,3.0],inplace=True)"
   ]
  },
  {
   "cell_type": "markdown",
   "id": "e848957b",
   "metadata": {},
   "source": [
    "#### 2.3 impute nan values\n",
    "- There are still lots of missing values in `df`, because the students are not always keen about filling in the survey, so we need to impute these values to make them as real as possible.\n",
    "- The YRBSS data points sampled from the same `PSU` and `stratum` in the same borough are likely to be from the same class of the same school [ref](), so we can impute the **demographic features** with other valid values based on these. `gender` is imputed from the mode of the same (`PSU`,`stratum`) group, because we already know that male and female are roughly the same amount, so if a subgroup is one-gender dominated, there would be another subgroup is another-gender dominated, and eventually they counter off. It's not so good to guese `race` from mode, though, otherwise we make minority groups more minority, generating biased model on races. All statistical indicators are meaningless on race, because the numbers are manually assigned, and in fact we can't put a distance, mean value, or bigger/smaller on a race value. As a result, we randomly generate a race number. `age` is different from race, that we can actually compare ages, and therefore we simply use round up mean values to fill in.\n",
    "- The **question answers** are hard to impute, so we assign a new value 0.0, as a new category, to the missing ones. This will sure influence the model, because they in fact would definitely have different answers but now they are treated as the same. We will see the results then."
   ]
  },
  {
   "cell_type": "code",
   "execution_count": null,
   "id": "9fc6da57",
   "metadata": {},
   "outputs": [],
   "source": [
    "all_questions = [q for q in df.columns if 'q' in q] \n",
    "df[all_questions] = df[all_questions].fillna(0.0)"
   ]
  },
  {
   "cell_type": "code",
   "execution_count": null,
   "id": "ab9163ed",
   "metadata": {},
   "outputs": [],
   "source": [
    "for b in boroughs_code:\n",
    "    \n",
    "    sub = df[df['sitecode']==b]\n",
    "    sample_group = sub.groupby(['PSU','stratum']).count().index\n",
    "    \n",
    "    for g in sample_group:\n",
    "        sub_group = sub[(sub.PSU==g[0]) & (sub.stratum==g[1])]\n",
    "\n",
    "        # fill gender with mode\n",
    "        sub_group['sex'].fillna(\n",
    "            stats.mode(sub_group.sex)[0][0],\n",
    "            inplace=True\n",
    "        )\n",
    "        \n",
    "        df.loc[sub_group.age.index,'sex'] = sub_group.sex\n",
    "\n",
    "        sub_group['race4'].fillna(\n",
    "            np.random.randint(1,6),\n",
    "            inplace=True\n",
    "        ) \n",
    "        df.loc[sub_group.race4.index,'race4'] = sub_group.race4\n",
    "        \n",
    "        # fill age with mean\n",
    "        sub_group['age'].fillna(\n",
    "            np.ceil(np.mean(sub_group.age.dropna())),\n",
    "            inplace=True\n",
    "        )\n",
    "        df.loc[sub_group.race4.index,'age'] = sub_group.age\n"
   ]
  },
  {
   "cell_type": "markdown",
   "id": "f1c80166",
   "metadata": {},
   "source": [
    "### 3. Impute external attributes from school analysis\n",
    "We want to make use of the following features from Part2 School Analysis:  \n",
    "- supportive environment score\n",
    "- retailer to school ratio\n",
    "- mean shortest distance to retailers\n",
    "\n",
    "in which each school has a specific score and distance calculated, and a borough has a retailer to school ratio. Thus, the score and distance are uniformly sampled from each school, since the probability of one student coming from one school is equal. Students in one borough would have the same retailer to school ratio of that borough.\n",
    "\n",
    "After this step, the dataset for training contains 8595 records.\n"
   ]
  },
  {
   "cell_type": "code",
   "execution_count": null,
   "id": "9b4bed9a",
   "metadata": {},
   "outputs": [],
   "source": [
    "# impute 2019 scores by boroughs:\n",
    "df_score = df_high_schools[df_high_schools['year']==2019][['DBN','boro','Borough','element_score']].dropna()\n",
    "\n",
    "for i,b in enumerate(boroughs_name):\n",
    "    df_sub = df[df['sitecode']==boroughs_code[i]]\n",
    "    \n",
    "    score_sub = df_score[df_score['Borough']==b].element_score.values\n",
    "    density = retailer_density.loc[b].values\n",
    "    distance_sub = df_school_directory[df_school_directory['Borough']==b]['mean distance'].values\n",
    "    \n",
    "    df.loc[df_sub.index,'score'] = np.random.choice(score_sub, size = len(df_sub))\n",
    "    df.loc[df_sub.index,'distance'] = np.random.choice(distance_sub, size = len(df_sub))\n",
    "    df.loc[df_sub.index,'density'] = np.array([density]*len(df_sub))\n",
    "df"
   ]
  },
  {
   "cell_type": "markdown",
   "id": "8660da9b",
   "metadata": {},
   "source": [
    "### 4. Build a decision tree model\n",
    "#### 4.1 basic model setting \n",
    "- Training/test set split: 70% training set, 30% test set\n",
    "- Model chosen: *Random Forest*  \n",
    "The attributes are mostly categorical answers from a survey, so tree-based models would be suitable. The complexity would not be so high to overfit, and it is easy to tell whether one attribute plays an important role in classification. The advantage of Random Forest is that it offsets the data imbalance by bootstrap, which generates a new dataset sampled from the original one for each classification tree in the forest. We have seen that this dataset is not strictly balanced -- there are fewer records of Staten Island, and that's when random forest is more suitable.\n",
    "\n",
    "#### 4.2 further attributes filter, to avoid data leakage\n",
    "- The samples come from only high school students, so `age` is not randomly included -- as in Part1's demographic analysis, students are usually 14-17 years old. Since the target is also about age, and a student who is 15 should not choose that he starts smoking at 16 or 17, the `age` attribute is inherently correlated with the target, and as a result we should drop `age`.\n",
    "- We already know that `age` and `grade` is highly correlated in Part1 YRBSS demographic analysis, so we don't include `grade` column to avoid data leakage. \n",
    "- Similarly, `q30`, whether smoked, and `q31`, initiation of smoking, have a causal relationship: if a non smoker is being honest, he should show consistency with his answers for `q30` and `q31`, and therefore we exclude `q30` as well. \n",
    "- Other features were then checked again on their number of missing values. The features still with small amount of missing values are kept with the missing values droped, and features with quite a few missing values are excluded completely. \n"
   ]
  },
  {
   "cell_type": "code",
   "execution_count": null,
   "id": "137197ea",
   "metadata": {},
   "outputs": [],
   "source": [
    "le = preprocessing.LabelEncoder()\n",
    "df['sitecode'] = le.fit_transform(df[\"sitecode\"])\n",
    "\n",
    "print('0 - 4 corresponds to', le.inverse_transform(range(5)))"
   ]
  },
  {
   "cell_type": "code",
   "execution_count": null,
   "id": "e49f0f8c",
   "metadata": {},
   "outputs": [],
   "source": [
    "for c in df.columns:\n",
    "    if  pd.isnull(df[c]).sum()>0:\n",
    "        print(c,'number of nan', pd.isnull(df[c]).sum())"
   ]
  },
  {
   "cell_type": "markdown",
   "id": "a5cb35bd",
   "metadata": {},
   "source": [
    "#### 4.3 train on the dataset of all students"
   ]
  },
  {
   "cell_type": "code",
   "execution_count": null,
   "id": "ea287c56",
   "metadata": {},
   "outputs": [],
   "source": [
    "x = df[['sitecode', 'sex', 'race4', 'qnobese', 'qnowt', 'q66', 'q65', 'sexid',\n",
    "       'sexid2', 'q12', 'q14', 'q15', 'q16', 'q17',\n",
    "       'q20', 'q21', 'q22', 'q23', 'q24', 'q25', 'q26', 'q28', 'q29',\n",
    "       'q31','q32', 'q33', 'q34', 'q35', 'q36', 'q38', 'q40', 'q41', 'q42',\n",
    "       'q46', 'q47', 'q48', 'q50', 'q52', 'q53', 'q56', 'q58', 'q59', 'q60',\n",
    "       'q61', 'q62', 'q69', 'q70', 'q75', 'q78', 'q79', 'q80', 'q81', 'q84',\n",
    "       'q85', 'q86', 'q87', 'q88','score', 'distance', 'density']].dropna(subset=['race4','sexid','sexid2'])\n",
    "\n",
    "y = x['q31']\n",
    "x = x.drop(columns=['q31'])\n",
    "\n",
    "### generate training/test set\n",
    "### 70/30 train/set division, as requested\n",
    "x_train, x_test, y_train, y_test = train_test_split(x, y, test_size=0.30, random_state=42)\n",
    "\n",
    "### train the random forest classifier\n",
    "### this classifier uses default hyperparameters from sklearn\n",
    "clf_4 = RandomForestClassifier(random_state=42)\n",
    "clf_4.fit(x_train, y_train)\n",
    "\n",
    "pred_y_train = clf_4.predict(x_train)\n",
    "\n",
    "print('-------------------training set------------------')\n",
    "mat = confusion_matrix(y_train, pred_y_train, labels=[1,2,3])\n",
    "print(\"accuracy\",'{:.2%}'.format(accuracy_score(y_train, pred_y_train)))\n",
    "print('precision', mat[1, 1]/(mat[0, 1]+mat[1, 1]))\n",
    "print('recall', mat[1, 1]/(mat[1, 1]+mat[1, 0]))\n",
    "print(mat)\n",
    "\n",
    "\n",
    "\n",
    "# print('-------------------test set performance------------------')\n",
    "pred_y_test = clf_4.predict(x_test)\n",
    "# print('confusion matrix:')\n",
    "mat_all = confusion_matrix(y_test, pred_y_test, labels=[1, 2, 3], normalize='true')\n",
    "# print(\"accuracy\",accuracy_score(y_test, pred_y_test))\n",
    "# print('precision', mat[1, 1]/(mat[0, 1]+mat[1, 1]))\n",
    "# print('recall', mat[1, 1]/(mat[1, 1]+mat[1, 0]))\n",
    "#print(mat_without)"
   ]
  },
  {
   "cell_type": "markdown",
   "id": "fddcf2f6",
   "metadata": {},
   "source": [
    "#### 4.4 train on the dataset with only smoking students\n"
   ]
  },
  {
   "cell_type": "code",
   "execution_count": null,
   "id": "ee559b76",
   "metadata": {},
   "outputs": [],
   "source": [
    "x = df[df['q31']>1][['sitecode', 'sex', 'race4', 'qnobese', 'qnowt', 'q66', 'q65', 'sexid',\n",
    "       'sexid2', 'q12', 'q14', 'q15', 'q16', 'q17',\n",
    "       'q20', 'q21', 'q22', 'q23', 'q24', 'q25', 'q26', 'q28', 'q29',\n",
    "       'q31', 'q32', 'q33', 'q34', 'q35', 'q36', 'q38', 'q40', 'q41', 'q42',\n",
    "       'q46', 'q47', 'q48', 'q50', 'q52', 'q53', 'q56', 'q58', 'q59', 'q60',\n",
    "       'q61', 'q62', 'q69', 'q70', 'q75', 'q78', 'q79', 'q80', 'q81', 'q84',\n",
    "       'q85', 'q86', 'q87', 'q88', 'score', 'distance', 'density']].dropna(subset=['race4','sexid','sexid2'])\n",
    "\n",
    "y = x['q31']\n",
    "x = x.drop(columns=['q31'])\n",
    "\n",
    "### generate training/test set\n",
    "### 70/30 train/set division, as requested\n",
    "x_train, x_test, y_train, y_test = train_test_split(x, y, test_size=0.30, random_state=42)\n",
    "\n",
    "### train the random forest classifier\n",
    "### this classifier uses default hyperparameters from sklearn\n",
    "clf_4 = RandomForestClassifier(random_state=42)\n",
    "clf_4.fit(x_train, y_train)\n",
    "\n",
    "pred_y_train = clf_4.predict(x_train)\n",
    "\n",
    "print('-------------------training set------------------')\n",
    "mat = confusion_matrix(y_train, pred_y_train, labels=[1,2,3])\n",
    "print(\"accuracy\",'{:.2%}'.format(accuracy_score(y_train, pred_y_train)))\n",
    "print('precision', mat[1, 1]/(mat[0, 1]+mat[1, 1]))\n",
    "print('recall', mat[1, 1]/(mat[1, 1]+mat[1, 0]))\n",
    "print(mat)\n",
    "\n",
    "\n",
    "\n",
    "# print('-------------------test set performance------------------')\n",
    "pred_y_test = clf_4.predict(x_test)\n",
    "# print('confusion matrix:')\n",
    "mat_smokers = confusion_matrix(y_test, pred_y_test, labels=[2, 3], normalize='true')\n",
    "# print(\"accuracy\",accuracy_score(y_test, pred_y_test))\n",
    "# print('precision', mat[1, 1]/(mat[0, 1]+mat[1, 1]))\n",
    "# print('recall', mat[1, 1]/(mat[1, 1]+mat[1, 0]))\n",
    "# print(mat)"
   ]
  },
  {
   "cell_type": "markdown",
   "id": "7ff6c3e7",
   "metadata": {},
   "source": [
    "#### - Fig confusion matrix of models"
   ]
  },
  {
   "cell_type": "code",
   "execution_count": null,
   "id": "dc7bb4f1",
   "metadata": {
    "scrolled": false
   },
   "outputs": [],
   "source": [
    "fig, axs = plt.subplots(1,2, figsize = ([14,6]))\n",
    "fig.suptitle('Confusion matrix of the two models')\n",
    "\n",
    "plt.subplots_adjust(wspace=0.3)\n",
    "\n",
    "cf_all = ConfusionMatrixDisplay(confusion_matrix=mat_all, display_labels=['no smoking', 'start before 13', 'start after 13'])\n",
    "cf_all.plot(ax=axs[0], cmap='crest')\n",
    "axs[0].set_title(\"Confusion matrix of all students\")\n",
    "\n",
    "cf_smokers = ConfusionMatrixDisplay(confusion_matrix=mat_smokers, display_labels=['start before 13', 'start after 13'])\n",
    "cf_smokers.plot(ax=axs[1],cmap='crest')\n",
    "axs[1].set_title(\"Confusion matrix of smokers\")\n",
    "\n",
    "plt.savefig('../fig/part_3_cm.svg', bbox_inches='tight')"
   ]
  },
  {
   "cell_type": "markdown",
   "id": "2e23d107",
   "metadata": {},
   "source": [
    "#### Comment\n",
    "- The model on all students doesn't work well enough as expected. It shows an extreme bias on \"no smoking\", skewing the prediction very much. More than 60% of smokers who started smoking before 13 and about 75% of smokers who started after 13 were classified as non-smoking. Possible reasons of this lie in the sizes of these two groups. Compared to over 7000 records of non-smokers, the latter two only constitute about 1000 records. This lead to the model to be underfitting, and unable to learn the smokers' characteristics, compared to the non-smokers. The issue would be relieved if given a larger dataset.\n",
    "- The model trained on only smokers are much less biased compared to the previous model. Both class reaches an accuracy of 70%. Considering the limited size, we can only claim the model is performing well within the existed dataset. The generalization performance is still in doubt.\n",
    "- Some conclusions, or perhaps assumptions can still be drawn from the comparisons, regardless of the unsatisfying results. Non-smoking high school students would always be the majority, whether they would start smoking is not always predictable, but once they pick up smoking, there might be some pattern in all kinds of behaviors, where adults and administrations can get in the way, and imporse some positive effects.\n"
   ]
  },
  {
   "cell_type": "markdown",
   "id": "e23b428b",
   "metadata": {},
   "source": [
    "#### 5. more insights on smokers"
   ]
  },
  {
   "cell_type": "code",
   "execution_count": null,
   "id": "0ab9cbb8",
   "metadata": {},
   "outputs": [],
   "source": [
    "importances = clf_4.feature_importances_;\n",
    "std = np.std([tree.feature_importances_ for tree in clf_4.estimators_], axis=0)\n",
    "\n",
    "forest_importances = pd.Series(importances, index= x.columns)\n",
    "forest_importances = forest_importances.sort_values(ascending=False)"
   ]
  },
  {
   "cell_type": "markdown",
   "id": "31b37ddf",
   "metadata": {},
   "source": [
    "#### - Fig importance"
   ]
  },
  {
   "cell_type": "code",
   "execution_count": null,
   "id": "68302672",
   "metadata": {},
   "outputs": [],
   "source": [
    "color = \"#93B59B\";\n",
    "figsize = (10, 6);\n",
    "x_tick_rot = 45;\n",
    "### bar plot with stddev\n",
    "fig, ax = plt.subplots(1, 1, figsize=figsize)\n",
    "forest_importances[:20].plot.bar(yerr=std[:20], ax=ax, color=color, rot=x_tick_rot)\n",
    "ax.set_title(\"Feature importances using MDI\", fontsize=14)\n",
    "ax.set_ylabel(\"Mean decrease in impurity\")\n",
    "fig.tight_layout()\n",
    "plt.savefig('../fig/part_3_importances.svg', bbox_inches='tight')"
   ]
  },
  {
   "cell_type": "markdown",
   "id": "3d138e3b",
   "metadata": {},
   "source": [
    "#### Comment\n",
    "- Seeing from the top 20 most important features of the smoker model, `q40`, when started drinking alcohol, tops at first. This suggests that starting to smoke and starting to drink are not seperate events -- once the guard to one is down, the other might soon collapse. Similarly, `q46`, also in the top 5, describes the initiation age of marijuana usage. These three features combined informed us that regulations should not be isolated, and a sustainable city shall maintain a good balance in all. \n",
    "- `q59` describes the age of first sexual intercourse, which in combination with the tobacco, drug and alcohol complete a teenage group profile who are highly curious, impulsive and reckless, and eager to feel like adults by making not cool decisions. \n",
    "- `distance` and `score` are listed the 2nd and the 3rd, meaning that our assumption that the social environments influence smoking initiation is also proved to some extent. How this two feature differ the smoking initiation age is demonstrated in the following chart.\n",
    "- `density`, on the other hand, is not as influential as the other two envrionmental factors. The impurity lessened by it alone is only half that of the other two. It seems it does not matter that much the average number of retailers against schools, but the specific neighborhood condition of each individual school contained in `distance`.\n",
    "- Demographic features, such as `race` and `sitecode` are not very important in this model, even though we found different distributions of all years of 5 boroughs in YRBSS's analysis.\n"
   ]
  },
  {
   "cell_type": "markdown",
   "id": "72e8cef7",
   "metadata": {},
   "source": [
    "#### - Fig top different features of smokers"
   ]
  },
  {
   "cell_type": "code",
   "execution_count": null,
   "id": "7de4ce20",
   "metadata": {
    "scrolled": false
   },
   "outputs": [],
   "source": [
    "top5 = ['q40','distance','score','q46','q59']\n",
    "questions_top5 = ['age of starting drinking alcohol','distance to retailers', \n",
    "                  \"school's supportive score\", \"age of starting using marijuana\",\n",
    "                  \"age of first sextual intercourse\"]\n",
    "fig, axs = plt.subplots(5,2, figsize = ([12,18]), sharey=True)\n",
    "\n",
    "fig.subplots_adjust(wspace=0.2, hspace=0.4)\n",
    "i = 0\n",
    "\n",
    "for q in top5:\n",
    "    x = [axs[i,0],axs[i,1]]    \n",
    "    x[0].set_xlabel(questions_top5[i])\n",
    "    x[1].set_xlabel(questions_top5[i])\n",
    "    if len(x_test[q].unique())>10:\n",
    "        sns.histplot(x_test[pred_y_test==2][q], ax=x[0], color=color_list[0], bins=8)\n",
    "        sns.histplot(x_test[pred_y_test==3][q], ax=x[1], color=color_list[0], bins=8)\n",
    "    else:  \n",
    "        x_test[pred_y_test==2][q].value_counts().sort_index().to_frame().plot(kind= 'bar', ax=x[0], rot=0, color=color_list[0], legend=False)\n",
    "        x_test[pred_y_test==3][q].value_counts().sort_index().to_frame().plot(kind= 'bar', ax=x[1], rot=0, color=color_list[0], legend=False)\n",
    "\n",
    "    i = i+1\n",
    "    \n",
    "\n",
    "axs[0,0].set_title('Group of starting smoking before 13')\n",
    "axs[0,1].set_title('Group of starting smoking after 13')\n",
    "plt.savefig('../fig/part_3_feature_diff.svg', bbox_inches='tight')\n",
    "#plt.suptitle('Difference within smokers')"
   ]
  },
  {
   "cell_type": "markdown",
   "id": "d6365b86",
   "metadata": {},
   "source": [
    "#### Comment\n",
    "- The difference within smokers who start smoking at different ages show different patterns in all the features we explored. The age of smoking initiation seems to positively related with all these 5 factors: age of starting drinking alcohol, distance to retailers, school's supportive score, age of starting using marijuana, age of first sextual intercourse. Younger age of catching up alcohol, drug and sex often predicts younger age of smoking, too. Same with the school factors, if a school is located further from tobacco retailers, and receives a higher supportive score, the students attending this school are likely to start smoking later in life. \n",
    "- The lesson we can learn from this result complies with our common sense, but powerful: Keep your kid away from any of this: alcohol and drug, will help them stay away from tobacco, too. Sexual education, school's societal environmental building-up and a clean, peaceful neighborhood would support their healthy behaviors, and any administrator and stakeholder in the related departments should bare this in mind, to make their city more upright and sustainable for the younger people."
   ]
  },
  {
   "cell_type": "markdown",
   "id": "7479bddf",
   "metadata": {},
   "source": [
    "# Visualization\n",
    "visualization in the project varies from static plots to interactive plots, from statistical plots to plain figures. We will discuss the choice of visualization in this section.\n",
    "\n",
    "### Geo-plots\n",
    "All geo-plots in the project in implemented with *folium* library. A typical geo-plot in the project should have layers whose visibility is customizable to readers by clicking the embedded layer button on the map. \n",
    "\n",
    "Choropleth plot appears most frequent in the layers, as one of the most common geo-data structure we were facing is the value distribution with respect to the five boroughs in NYC. Choropleth plot can precisely describe the geographical distribution using distinguishable colors. \n",
    "\n",
    "Markers are used only once for marking high school locations on the map. They are effective when comes to demonstrating exact locations of a dataset in a small scale on the map. However, things become messy when you try to mark too many locations on the map due to their memory consuming nature. Our machine died once for running more than 4,000 retailers markers on the map. That is also the reason we limit its usage.\n",
    "\n",
    "Heatmap provides readers with straight and decent experience, which is the perfect choice for identifying where something occurs, and demonstrate areas of high and low density. We used heatmap for describing the retailer distribution and density. We found that heatmap shows its excellence also at the time when plotting the exact location is not important, or not possible: it does a good job leaving readers with quick impressions.\n",
    "\n",
    "Combined with a time slider bar, choropleth in time series offers a power tool for visualization over time. Dataset with data from multiple years are shown with this type of visualization mostly. Through dragging the top bar, readers can check the differences across the timescale.\n",
    "\n",
    "### Statistical Plots\n",
    "Statistical plots are implemented in various ways. *Bokeh* library is applied for making interactive plots in particular.\n",
    "\n",
    "The stacked bar plot, with fixed vertical length and flexible partial length for each element representing the accounted portion, makes itself much repetitive appearance in Part I. This type of plot offers an easy way for readers to compare among data from different items, say boroughs, while sometimes people may think pie chart is a little clumsy when comes to compare across.\n",
    "\n",
    "Classic bar plot and line chart are always solid. Box plot gives a visual summary of the data , through which readers can quickly identify mean values, the dispersion of the data set, and signs of skewness. It is useful when we are talking about data distributions."
   ]
  },
  {
   "cell_type": "markdown",
   "id": "d32af06b",
   "metadata": {},
   "source": [
    "# Genre to choose\n",
    "Built on the *Magazine* and *Annotated Graph* genres introduced in Segal and Heer paper, we applied several methods on visual presentation and narrative presentation to better help us tell an attractive and logical story.\n",
    "\n",
    "### Visual Presentation\n",
    "We believe that good visual presentation could facilitate readers understanding our intention hiding in the context. For instance, heavily relying on geo-plot to demonstrate information with respect to boroughs, the project introduces many interactive geo-plots plotted via *folium* library. In these plots, readers are able to interact by changing map tiles and data layers to combine the information they prefer. Other examples can also be found in plots from *Bokeh* library.\n",
    "\n",
    "We also value the power of design. we would like to present our project on a simple, bold, powerful or even little aggressive website. Starting from an open-source template, we made decent modifications to achieve the desired visual effect as presented. With a you-can-not-miss-it title, readers could be attracted by the article even at a quick glance.\n",
    "\n",
    "### Narrative Presentation\n",
    "Separated into three parts, the project attempts to keep the information taken by readers in a fair amount on every reading. Each part on an individual but connected topic contains consistent and not too much information. Provided with detailed outline, readers can customize their reading experiences. "
   ]
  },
  {
   "cell_type": "markdown",
   "id": "dcfd9888",
   "metadata": {},
   "source": [
    "# Discussion\n",
    "### What Is Good\n",
    "Franking speaking, we are satisfied with the topic of the project. Having had a friend who addicted himself to cigarette, we are happy to have the chance to dig into a problem that we actually care about. \n",
    "\n",
    "About the project contents, we do believe that it contains a large volume of work with decent analysis on three individual topics related to the project. In total we presented more than 30 plots in our project, as well as large amount of explanations. We do appreciate our time spent on the project by generating better analysis and reading experiences.\n",
    "\n",
    "Diving into the data is always the toughest part, and we have successfully cracked the mystery inside with plenty of labor understanding them. Some data came in the form of questionnaire, where we had to pay extra work finding the explanation to each answer. To make things worse, data from different years came with different sets of answer, for which we had to do a large amount of data cleaning and merging.\n",
    "\n",
    "Given large amount of visualization, we did a nice job delivering them in a various and interactive way. Tools such as *folium* and *Bokeh* libraries for interactive plots are applied for better visual effect. We made a great effort on creating interactive plots, especially for the geo-plots. We believe that we have achieved\n",
    "our goal on visualizations at present.\n",
    "\n",
    "Picking a right template for website producing also contributes to the overall visual effect of the project thus boost reading experience. Abundant explanatory texts also ensure that readers can reach our insight in a fast pace.\n",
    "\n",
    "### What Is To Improve\n",
    "- When working with data one should always be skeptical how real one dataset is representative of the whole population, and our dataset would not totally avoid bias, either. The dataset could be worked with more advanced statistical techniques to mitigate the bias and reach a more true reflection of everyone.\n",
    "- To combine multiple datasets we did not use genuine data but simulated with possible values, this could possibly influence the machine learning model, and indicate false interrelationships within features.\n",
    "\n",
    "\n",
    "# References\n",
    "E. Segel and J. Heer, \"Narrative Visualization: Telling Stories with Data,\" in IEEE Transactions on Visualization and Computer Graphics, vol. 16, no. 6, pp. 1139-1148, Nov.-Dec. 2010, doi: 10.1109/TVCG.2010.179.\n",
    "\n",
    "[YRBSS main page](https://www.cdc.gov/healthyyouth/data/yrbs/index.htm)\n",
    "\n",
    "[NYC school survey homepage](https://www.schools.nyc.gov/about-us/reports/school-quality/nyc-school-survey)"
   ]
  },
  {
   "cell_type": "markdown",
   "id": "9e329930",
   "metadata": {},
   "source": [
    "# Contribution\n",
    "Sixian Zuo(s210365)\n",
    "- Data processing for part I, II and III\n",
    "- Data visualization for part I, II and III\n",
    "- Model Training\n",
    "\n",
    "Kewei Du(s220059)\n",
    "- Data processing for part II\n",
    "- Data visualization for part I and II\n",
    "- Website Producing"
   ]
  },
  {
   "cell_type": "code",
   "execution_count": null,
   "id": "b8754cdf",
   "metadata": {},
   "outputs": [],
   "source": []
  }
 ],
 "metadata": {
  "celltoolbar": "Raw Cell Format",
  "kernelspec": {
   "display_name": "Python 3",
   "language": "python",
   "name": "python3"
  },
  "language_info": {
   "codemirror_mode": {
    "name": "ipython",
    "version": 3
   },
   "file_extension": ".py",
   "mimetype": "text/x-python",
   "name": "python",
   "nbconvert_exporter": "python",
   "pygments_lexer": "ipython3",
   "version": "3.8.8"
  },
  "toc": {
   "base_numbering": 1,
   "nav_menu": {},
   "number_sections": false,
   "sideBar": true,
   "skip_h1_title": false,
   "title_cell": "Table of Contents",
   "title_sidebar": "Contents",
   "toc_cell": false,
   "toc_position": {
    "height": "calc(100% - 180px)",
    "left": "10px",
    "top": "150px",
    "width": "248px"
   },
   "toc_section_display": true,
   "toc_window_display": true
  },
  "varInspector": {
   "cols": {
    "lenName": 16,
    "lenType": 16,
    "lenVar": 40
   },
   "kernels_config": {
    "python": {
     "delete_cmd_postfix": "",
     "delete_cmd_prefix": "del ",
     "library": "var_list.py",
     "varRefreshCmd": "print(var_dic_list())"
    },
    "r": {
     "delete_cmd_postfix": ") ",
     "delete_cmd_prefix": "rm(",
     "library": "var_list.r",
     "varRefreshCmd": "cat(var_dic_list()) "
    }
   },
   "types_to_exclude": [
    "module",
    "function",
    "builtin_function_or_method",
    "instance",
    "_Feature"
   ],
   "window_display": false
  }
 },
 "nbformat": 4,
 "nbformat_minor": 5
}
